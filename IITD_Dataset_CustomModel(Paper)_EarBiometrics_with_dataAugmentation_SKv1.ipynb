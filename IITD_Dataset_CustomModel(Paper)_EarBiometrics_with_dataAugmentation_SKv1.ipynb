{
  "nbformat": 4,
  "nbformat_minor": 0,
  "metadata": {
    "colab": {
      "name": "IITD-Dataset-CustomModel(Paper)_EarBiometrics_with_dataAugmentation_SKv1.ipynb",
      "provenance": [],
      "collapsed_sections": [],
      "include_colab_link": true
    },
    "kernelspec": {
      "display_name": "Python 3",
      "language": "python",
      "name": "python3"
    },
    "language_info": {
      "codemirror_mode": {
        "name": "ipython",
        "version": 3
      },
      "file_extension": ".py",
      "mimetype": "text/x-python",
      "name": "python",
      "nbconvert_exporter": "python",
      "pygments_lexer": "ipython3",
      "version": "3.7.10"
    },
    "accelerator": "GPU"
  },
  "cells": [
    {
      "cell_type": "markdown",
      "metadata": {
        "id": "view-in-github",
        "colab_type": "text"
      },
      "source": [
        "<a href=\"https://colab.research.google.com/github/Shujaat123/Ear_Biometrics/blob/main/IITD_Dataset_CustomModel(Paper)_EarBiometrics_with_dataAugmentation_SKv1.ipynb\" target=\"_parent\"><img src=\"https://colab.research.google.com/assets/colab-badge.svg\" alt=\"Open In Colab\"/></a>"
      ]
    },
    {
      "cell_type": "code",
      "metadata": {
        "colab": {
          "base_uri": "https://localhost:8080/"
        },
        "id": "GoJ8BY9Tb_qb",
        "outputId": "e5d55007-7a8c-46f1-b26d-899aee9ef347"
      },
      "source": [
        "## Load useful packages\n",
        "!pip install wget\n",
        "!pip install py7zr\n",
        "\n",
        "import tensorflow as tf\n",
        "from tensorflow import keras\n",
        "from tensorflow.keras import layers\n",
        "\n",
        "# import keras\n",
        "import py7zr\n",
        "from zipfile import ZipFile\n",
        "from random import sample\n",
        "\n",
        "import PIL.Image as Image\n",
        "from scipy import io\n",
        "import matplotlib.pyplot as plt\n",
        "from  sklearn.model_selection import train_test_split\n",
        "from os import listdir\n",
        "from os import path\n",
        "import h5py\n",
        "# import keras.backend as K\n",
        "import tensorflow.keras.backend as K\n",
        "import numpy as np\n",
        "import wget\n",
        "from tensorflow.keras import regularizers\n",
        "from tensorflow.keras.callbacks import EarlyStopping\n",
        "from tensorflow.keras.callbacks import ModelCheckpoint\n",
        "from tensorflow.keras.layers import *\n",
        "from tensorflow.keras.models import Model\n",
        "from tensorflow.keras.models import load_model\n",
        "from keras.utils.np_utils import to_categorical\n",
        "from sklearn.metrics import accuracy_score, balanced_accuracy_score\n",
        "from sklearn.metrics import confusion_matrix"
      ],
      "execution_count": 15,
      "outputs": [
        {
          "output_type": "stream",
          "text": [
            "Requirement already satisfied: wget in /usr/local/lib/python3.7/dist-packages (3.2)\n",
            "Requirement already satisfied: py7zr in /usr/local/lib/python3.7/dist-packages (0.16.1)\n",
            "Requirement already satisfied: multivolumefile>=0.2.3 in /usr/local/lib/python3.7/dist-packages (from py7zr) (0.2.3)\n",
            "Requirement already satisfied: texttable in /usr/local/lib/python3.7/dist-packages (from py7zr) (1.6.4)\n",
            "Requirement already satisfied: pycryptodomex>=3.6.6 in /usr/local/lib/python3.7/dist-packages (from py7zr) (3.10.1)\n",
            "Requirement already satisfied: pyppmd>=0.14.0 in /usr/local/lib/python3.7/dist-packages (from py7zr) (0.15.1)\n",
            "Requirement already satisfied: pyzstd<0.15.0,>=0.14.4 in /usr/local/lib/python3.7/dist-packages (from py7zr) (0.14.4)\n",
            "Requirement already satisfied: bcj-cffi<0.6.0,>=0.5.1 in /usr/local/lib/python3.7/dist-packages (from py7zr) (0.5.1)\n",
            "Requirement already satisfied: brotli>=1.0.9; platform_python_implementation == \"CPython\" in /usr/local/lib/python3.7/dist-packages (from py7zr) (1.0.9)\n",
            "Requirement already satisfied: importlib-metadata; python_version < \"3.8\" in /usr/local/lib/python3.7/dist-packages (from py7zr) (4.6.1)\n",
            "Requirement already satisfied: cffi>=1.14.0 in /usr/local/lib/python3.7/dist-packages (from bcj-cffi<0.6.0,>=0.5.1->py7zr) (1.14.6)\n",
            "Requirement already satisfied: zipp>=0.5 in /usr/local/lib/python3.7/dist-packages (from importlib-metadata; python_version < \"3.8\"->py7zr) (3.5.0)\n",
            "Requirement already satisfied: typing-extensions>=3.6.4; python_version < \"3.8\" in /usr/local/lib/python3.7/dist-packages (from importlib-metadata; python_version < \"3.8\"->py7zr) (3.7.4.3)\n",
            "Requirement already satisfied: pycparser in /usr/local/lib/python3.7/dist-packages (from cffi>=1.14.0->bcj-cffi<0.6.0,>=0.5.1->py7zr) (2.20)\n"
          ],
          "name": "stdout"
        }
      ]
    },
    {
      "cell_type": "code",
      "metadata": {
        "colab": {
          "base_uri": "https://localhost:8080/"
        },
        "id": "4NI4AmSEfuKC",
        "outputId": "582bc524-24a8-4d8f-dbf5-1fc3d2fd3c51"
      },
      "source": [
        "data_path = 'https://github.com/Alishba18001778/EarClassification/blob/main/IITD_Data_Tensor.mat?raw=true'\n",
        "Data_filename = 'IITD_Data_Tensor.mat'\n",
        "\n",
        "data_path_labels = 'https://github.com/Alishba18001778/EarClassification/blob/main/IITD_Labels.mat?raw=true'\n",
        "labels_filename = 'IITD_Labels.mat'\n",
        "\n",
        "if(path.exists(labels_filename)):\n",
        "  !rm $labels_filename\n",
        "  print('existing file:', labels_filename, ' has been deleted')\n",
        "print('downloading latest version of file:', labels_filename)\n",
        "wget.download(data_path_labels, labels_filename)\n",
        "\n",
        "if(path.exists(Data_filename)):\n",
        "  !rm $Data_filename\n",
        "  print('existing file:', Data_filename, ' has been deleted')\n",
        "print('downloading latest version of file:', Data_filename)\n",
        "wget.download(data_path, Data_filename)\n",
        "# \n",
        "u = io.loadmat('IITD_Data_Tensor.mat')\n",
        "v = io.loadmat('IITD_Labels.mat')\n",
        "sub_labels = v[\"sub_labels\"]\n",
        "sub_labels = np.squeeze(sub_labels.transpose())\n",
        "ear_images = u[\"ear_images\"]\n",
        "ear_images = np.asarray(ear_images).astype('float32')\n",
        "\n",
        "# sub_labels = to_categorical(np.array(sub_labels))\n",
        "print(ear_images.shape)\n",
        "print(sub_labels.shape)"
      ],
      "execution_count": 16,
      "outputs": [
        {
          "output_type": "stream",
          "text": [
            "existing file: IITD_Labels.mat  has been deleted\n",
            "downloading latest version of file: IITD_Labels.mat\n",
            "existing file: IITD_Data_Tensor.mat  has been deleted\n",
            "downloading latest version of file: IITD_Data_Tensor.mat\n",
            "(793, 180, 50)\n",
            "(793,)\n"
          ],
          "name": "stdout"
        }
      ]
    },
    {
      "cell_type": "code",
      "metadata": {
        "colab": {
          "base_uri": "https://localhost:8080/"
        },
        "id": "H6f9PJYHn1St",
        "outputId": "7e790c15-407f-4321-adc2-b2fcca52701b"
      },
      "source": [
        "X_train, X_test, y_train, y_test = train_test_split(ear_images, sub_labels, test_size=0.382093316519, stratify=sub_labels, random_state=42)\n",
        "# X_train, X_test, y_train, y_test = train_test_split(ear_images, sub_labels, test_size=0.7205, stratify=sub_labels, random_state=42)\n",
        "print(X_train.shape)\n",
        "print(y_train.shape)\n",
        "print(X_test.shape)\n",
        "print(y_test.shape)"
      ],
      "execution_count": 17,
      "outputs": [
        {
          "output_type": "stream",
          "text": [
            "(490, 180, 50)\n",
            "(490,)\n",
            "(303, 180, 50)\n",
            "(303,)\n"
          ],
          "name": "stdout"
        }
      ]
    },
    {
      "cell_type": "code",
      "metadata": {
        "id": "LmWDehu_b50D"
      },
      "source": [
        "## Functions for Augmentation \n",
        "import random\n",
        "\n",
        "from scipy import ndimage\n",
        "\n",
        "@tf.function(input_signature=[tf.TensorSpec((180,50), tf.float32)])\n",
        "def rotate(volume):\n",
        "  def scipy_rotate(volume):\n",
        "    # define some rotation angles\n",
        "    angles = [-5, -2.5, -1.25, 0, 1.25, 2.5, 5]\n",
        "    # pick angles at random\n",
        "    angle = random.choice(angles)\n",
        "    angle = np.random.uniform(low=-5,high=5)\n",
        "    # rotate volume\n",
        "    volume = ndimage.rotate(volume, angle, reshape=False)\n",
        "    volume[volume < 0] = 0\n",
        "    volume[volume > 1] = 1\n",
        "    return volume\n",
        "    \n",
        "  augmented_volume = tf.numpy_function(scipy_rotate, [volume], tf.float32)\n",
        "  return augmented_volume\n",
        "\n",
        "def train_preprocessing(volume, label):\n",
        "    \"\"\"Process training data by rotating and adding a channel.\"\"\"\n",
        "    # Rotate volume\n",
        "    volume = rotate(volume)\n",
        "    volume = tf.expand_dims(volume, axis=2)\n",
        "    return volume, label\n",
        "\n",
        "\n",
        "def validation_preprocessing(volume, label):\n",
        "    \"\"\"Process validation data by only adding a channel.\"\"\"\n",
        "    volume = tf.expand_dims(volume, axis=2)\n",
        "    return volume, label  "
      ],
      "execution_count": 18,
      "outputs": []
    },
    {
      "cell_type": "code",
      "metadata": {
        "id": "oMayf8bT3F_m",
        "colab": {
          "base_uri": "https://localhost:8080/",
          "height": 304
        },
        "outputId": "62928883-b2c1-4351-c6f3-c61c351c701f"
      },
      "source": [
        "### Write Augmentation code here\n",
        "# Define data loaders.\n",
        "train_loader = tf.data.Dataset.from_tensor_slices((X_train, y_train))\n",
        "validation_loader = tf.data.Dataset.from_tensor_slices((X_test, y_test))\n",
        "\n",
        "batch_size = 5\n",
        "# Augment the on the fly during training.\n",
        "train_dataset = (\n",
        "    train_loader.shuffle(len(X_train))\n",
        "    .map(train_preprocessing)\n",
        "    .batch(batch_size)\n",
        "    .prefetch(batch_size)\n",
        ")\n",
        "# Only rescale.\n",
        "validation_dataset = (\n",
        "    validation_loader.shuffle(len(X_test))\n",
        "    .map(validation_preprocessing)\n",
        "    .batch(batch_size)\n",
        "    .prefetch(batch_size)\n",
        ")\n",
        "\n",
        "import matplotlib.pyplot as plt\n",
        "\n",
        "data = train_dataset.take(1)\n",
        "images, labels = list(data)[0]\n",
        "images = images.numpy()\n",
        "image = images[0]\n",
        "print(\"Dimension of the CT scan is:\", image.shape)\n",
        "plt.imshow(np.squeeze(image[:, :]), cmap=\"gray\")"
      ],
      "execution_count": 19,
      "outputs": [
        {
          "output_type": "stream",
          "text": [
            "Dimension of the CT scan is: (180, 50, 1)\n"
          ],
          "name": "stdout"
        },
        {
          "output_type": "execute_result",
          "data": {
            "text/plain": [
              "<matplotlib.image.AxesImage at 0x7f381a2a3b50>"
            ]
          },
          "metadata": {
            "tags": []
          },
          "execution_count": 19
        },
        {
          "output_type": "display_data",
          "data": {
            "image/png": "[encoded data removed]",
            "text/plain": [
              "<Figure size 432x288 with 1 Axes>"
            ]
          },
          "metadata": {
            "tags": [],
            "needs_background": "light"
          }
        }
      ]
    },
    {
      "cell_type": "code",
      "metadata": {
        "colab": {
          "base_uri": "https://localhost:8080/"
        },
        "id": "BTzprQ3t3giN",
        "outputId": "825b50d4-0176-48d4-8b7f-ca3577c7f04e"
      },
      "source": [
        "#Custom Model\n",
        "def new_model():\n",
        "  input_img = Input(shape=(180,50, 1))\n",
        "  num_filter = 8\n",
        "  kernel_size = 3\n",
        "  strides = 1\n",
        "  \n",
        "  # input_zoomed =  tf.keras.layers.experimental.preprocessing.RandomZoom(0.1, 0.1)(input_img)\n",
        "  # input_zoomed =  tf.keras.layers.experimental.preprocessing.RandomContrast(0.1, 0.1)(input_zoomed)\n",
        "\n",
        "  x = Conv2D(num_filter, kernel_size, strides, activation='relu',padding = 'same', name = 'enc1')(input_img)\n",
        "  x = MaxPool2D((2, 2))(x)\n",
        "\n",
        "    \n",
        "  x = Conv2D(2*num_filter, kernel_size, strides, activation='relu', padding = 'same', name = 'enc3')(x) \n",
        "  x = BatchNormalization()(x)\n",
        "  x = MaxPool2D((2, 2))(x)   \n",
        " \n",
        "    \n",
        "  x = Conv2D(4*num_filter, kernel_size, strides, activation='relu', padding = 'same', name = 'enc4')(x) \n",
        "  x = MaxPool2D((2, 2))(x) \n",
        "\n",
        "  x = Conv2D(8*num_filter, kernel_size, strides, activation='relu', padding = 'same', name = 'enc5')(x) \n",
        "  x = BatchNormalization()(x)\n",
        "  x = MaxPool2D((2, 2))(x) \n",
        "  \n",
        "  x = Conv2D(16*num_filter, kernel_size, strides, activation='relu', padding = 'same', name = 'enc6')(x) \n",
        "  x = MaxPool2D((2, 2))(x) \n",
        "\n",
        "  \n",
        "  x = Conv2D(32*num_filter, kernel_size, strides, activation='relu', padding = 'same', name = 'enc7')(x) \n",
        "  x = BatchNormalization()(x)\n",
        "\n",
        "  y = Flatten()(x) \n",
        "\n",
        "  output = Dense(221, activation='softmax')(y)\n",
        "\n",
        "  Arch_pre = Model(input_img, output)\n",
        "  \n",
        "  Arch_pre.compile(optimizer=keras.optimizers.Adam(learning_rate=0.001),\n",
        "                loss=keras.losses.SparseCategoricalCrossentropy(),\n",
        "                metrics=['accuracy'])\n",
        "  return Arch_pre\n",
        "\n",
        "Arch_pre= new_model()\n",
        "Arch_pre.summary()"
      ],
      "execution_count": 20,
      "outputs": [
        {
          "output_type": "stream",
          "text": [
            "Model: \"model_6\"\n",
            "_________________________________________________________________\n",
            "Layer (type)                 Output Shape              Param #   \n",
            "=================================================================\n",
            "input_7 (InputLayer)         [(None, 180, 50, 1)]      0         \n",
            "_________________________________________________________________\n",
            "enc1 (Conv2D)                (None, 180, 50, 8)        80        \n",
            "_________________________________________________________________\n",
            "max_pooling2d_30 (MaxPooling (None, 90, 25, 8)         0         \n",
            "_________________________________________________________________\n",
            "enc3 (Conv2D)                (None, 90, 25, 16)        1168      \n",
            "_________________________________________________________________\n",
            "batch_normalization_18 (Batc (None, 90, 25, 16)        64        \n",
            "_________________________________________________________________\n",
            "max_pooling2d_31 (MaxPooling (None, 45, 12, 16)        0         \n",
            "_________________________________________________________________\n",
            "enc4 (Conv2D)                (None, 45, 12, 32)        4640      \n",
            "_________________________________________________________________\n",
            "max_pooling2d_32 (MaxPooling (None, 22, 6, 32)         0         \n",
            "_________________________________________________________________\n",
            "enc5 (Conv2D)                (None, 22, 6, 64)         18496     \n",
            "_________________________________________________________________\n",
            "batch_normalization_19 (Batc (None, 22, 6, 64)         256       \n",
            "_________________________________________________________________\n",
            "max_pooling2d_33 (MaxPooling (None, 11, 3, 64)         0         \n",
            "_________________________________________________________________\n",
            "enc6 (Conv2D)                (None, 11, 3, 128)        73856     \n",
            "_________________________________________________________________\n",
            "max_pooling2d_34 (MaxPooling (None, 5, 1, 128)         0         \n",
            "_________________________________________________________________\n",
            "enc7 (Conv2D)                (None, 5, 1, 256)         295168    \n",
            "_________________________________________________________________\n",
            "batch_normalization_20 (Batc (None, 5, 1, 256)         1024      \n",
            "_________________________________________________________________\n",
            "flatten_6 (Flatten)          (None, 1280)              0         \n",
            "_________________________________________________________________\n",
            "dense_6 (Dense)              (None, 221)               283101    \n",
            "=================================================================\n",
            "Total params: 677,853\n",
            "Trainable params: 677,181\n",
            "Non-trainable params: 672\n",
            "_________________________________________________________________\n"
          ],
          "name": "stdout"
        }
      ]
    },
    {
      "cell_type": "code",
      "metadata": {
        "colab": {
          "base_uri": "https://localhost:8080/"
        },
        "id": "EBTVJNSM4MDH",
        "outputId": "92afecf6-5d3d-457c-f704-0ee5768deef2"
      },
      "source": [
        "Arch_pre= new_model()\n",
        "#Using the best model \n",
        "es = EarlyStopping(monitor='val_loss', patience=100, mode='min')\n",
        "checkpoint = ModelCheckpoint('models\\\\modelweather-best.h5',\n",
        "                                  verbose=0, monitor='val_loss',save_best_only=True, mode='auto')\n",
        "\n",
        "# Arch_pre.fit(X_train, y_train,\n",
        "#                 epochs=100,\n",
        "#                 batch_size=5,\n",
        "#                 shuffle=True,\n",
        "#                 validation_data=(X_test, y_test),\n",
        "#                 callbacks = [es, checkpoint]\n",
        "#                 )\n",
        "\n",
        "Arch_pre.fit(train_dataset,\n",
        "             validation_data=validation_dataset,\n",
        "             epochs=100,\n",
        "             callbacks = [es, checkpoint])\n",
        "\n",
        "del Arch_pre  # deletes the existing model\n",
        "Arch_pre = load_model('models\\\\modelweather-best.h5')"
      ],
      "execution_count": 21,
      "outputs": [
        {
          "output_type": "stream",
          "text": [
            "Epoch 1/100\n",
            "98/98 [==============================] - 2s 16ms/step - loss: 6.4413 - accuracy: 0.0102 - val_loss: 5.8497 - val_accuracy: 0.0033\n",
            "Epoch 2/100\n",
            "98/98 [==============================] - 1s 12ms/step - loss: 5.1242 - accuracy: 0.0510 - val_loss: 6.9905 - val_accuracy: 0.0066\n",
            "Epoch 3/100\n",
            "98/98 [==============================] - 1s 12ms/step - loss: 3.9935 - accuracy: 0.1714 - val_loss: 7.9164 - val_accuracy: 0.0033\n",
            "Epoch 4/100\n",
            "98/98 [==============================] - 1s 12ms/step - loss: 2.5546 - accuracy: 0.3653 - val_loss: 7.8181 - val_accuracy: 0.0066\n",
            "Epoch 5/100\n",
            "98/98 [==============================] - 1s 12ms/step - loss: 1.2510 - accuracy: 0.7082 - val_loss: 4.6375 - val_accuracy: 0.0693\n",
            "Epoch 6/100\n",
            "98/98 [==============================] - 1s 12ms/step - loss: 0.5935 - accuracy: 0.8653 - val_loss: 1.5156 - val_accuracy: 0.6502\n",
            "Epoch 7/100\n",
            "98/98 [==============================] - 1s 12ms/step - loss: 0.3027 - accuracy: 0.9551 - val_loss: 1.4756 - val_accuracy: 0.6271\n",
            "Epoch 8/100\n",
            "98/98 [==============================] - 1s 13ms/step - loss: 0.1381 - accuracy: 0.9776 - val_loss: 0.8320 - val_accuracy: 0.8383\n",
            "Epoch 9/100\n",
            "98/98 [==============================] - 1s 13ms/step - loss: 0.1332 - accuracy: 0.9776 - val_loss: 0.6866 - val_accuracy: 0.8482\n",
            "Epoch 10/100\n",
            "98/98 [==============================] - 1s 13ms/step - loss: 0.0603 - accuracy: 0.9918 - val_loss: 0.4633 - val_accuracy: 0.9142\n",
            "Epoch 11/100\n",
            "98/98 [==============================] - 1s 13ms/step - loss: 0.0302 - accuracy: 0.9939 - val_loss: 0.4639 - val_accuracy: 0.9043\n",
            "Epoch 12/100\n",
            "98/98 [==============================] - 1s 12ms/step - loss: 0.0640 - accuracy: 0.9898 - val_loss: 0.7521 - val_accuracy: 0.8251\n",
            "Epoch 13/100\n",
            "98/98 [==============================] - 1s 13ms/step - loss: 0.0414 - accuracy: 0.9918 - val_loss: 0.6309 - val_accuracy: 0.8515\n",
            "Epoch 14/100\n",
            "98/98 [==============================] - 1s 12ms/step - loss: 0.1026 - accuracy: 0.9816 - val_loss: 1.0642 - val_accuracy: 0.7789\n",
            "Epoch 15/100\n",
            "98/98 [==============================] - 1s 12ms/step - loss: 0.1582 - accuracy: 0.9633 - val_loss: 0.7180 - val_accuracy: 0.8482\n",
            "Epoch 16/100\n",
            "98/98 [==============================] - 1s 12ms/step - loss: 0.0959 - accuracy: 0.9755 - val_loss: 0.6084 - val_accuracy: 0.8713\n",
            "Epoch 17/100\n",
            "98/98 [==============================] - 1s 13ms/step - loss: 0.0687 - accuracy: 0.9776 - val_loss: 0.5133 - val_accuracy: 0.8647\n",
            "Epoch 18/100\n",
            "98/98 [==============================] - 1s 13ms/step - loss: 0.0625 - accuracy: 0.9816 - val_loss: 0.5855 - val_accuracy: 0.8416\n",
            "Epoch 19/100\n",
            "98/98 [==============================] - 1s 13ms/step - loss: 0.0171 - accuracy: 0.9980 - val_loss: 0.4695 - val_accuracy: 0.8812\n",
            "Epoch 20/100\n",
            "98/98 [==============================] - 1s 13ms/step - loss: 0.0071 - accuracy: 1.0000 - val_loss: 0.4261 - val_accuracy: 0.8944\n",
            "Epoch 21/100\n",
            "98/98 [==============================] - 1s 13ms/step - loss: 0.0049 - accuracy: 1.0000 - val_loss: 0.3930 - val_accuracy: 0.9076\n",
            "Epoch 22/100\n",
            "98/98 [==============================] - 1s 13ms/step - loss: 0.0035 - accuracy: 1.0000 - val_loss: 0.3825 - val_accuracy: 0.9175\n",
            "Epoch 23/100\n",
            "98/98 [==============================] - 1s 13ms/step - loss: 0.0024 - accuracy: 1.0000 - val_loss: 0.3747 - val_accuracy: 0.8944\n",
            "Epoch 24/100\n",
            "98/98 [==============================] - 1s 13ms/step - loss: 0.0026 - accuracy: 1.0000 - val_loss: 0.3659 - val_accuracy: 0.9109\n",
            "Epoch 25/100\n",
            "98/98 [==============================] - 1s 13ms/step - loss: 0.0016 - accuracy: 1.0000 - val_loss: 0.3499 - val_accuracy: 0.9109\n",
            "Epoch 26/100\n",
            "98/98 [==============================] - 1s 12ms/step - loss: 0.0014 - accuracy: 1.0000 - val_loss: 0.3462 - val_accuracy: 0.9109\n",
            "Epoch 27/100\n",
            "98/98 [==============================] - 1s 13ms/step - loss: 0.0012 - accuracy: 1.0000 - val_loss: 0.3371 - val_accuracy: 0.9175\n",
            "Epoch 28/100\n",
            "98/98 [==============================] - 1s 15ms/step - loss: 0.0013 - accuracy: 1.0000 - val_loss: 0.3418 - val_accuracy: 0.9043\n",
            "Epoch 29/100\n",
            "98/98 [==============================] - 1s 14ms/step - loss: 0.0011 - accuracy: 1.0000 - val_loss: 0.3304 - val_accuracy: 0.9208\n",
            "Epoch 30/100\n",
            "98/98 [==============================] - 1s 13ms/step - loss: 0.0011 - accuracy: 1.0000 - val_loss: 0.3334 - val_accuracy: 0.9076\n",
            "Epoch 31/100\n",
            "98/98 [==============================] - 1s 13ms/step - loss: 0.0010 - accuracy: 1.0000 - val_loss: 0.3252 - val_accuracy: 0.9142\n",
            "Epoch 32/100\n",
            "98/98 [==============================] - 1s 13ms/step - loss: 9.6592e-04 - accuracy: 1.0000 - val_loss: 0.3236 - val_accuracy: 0.9175\n",
            "Epoch 33/100\n",
            "98/98 [==============================] - 1s 12ms/step - loss: 6.9029e-04 - accuracy: 1.0000 - val_loss: 0.3247 - val_accuracy: 0.9274\n",
            "Epoch 34/100\n",
            "98/98 [==============================] - 1s 13ms/step - loss: 7.3951e-04 - accuracy: 1.0000 - val_loss: 0.3236 - val_accuracy: 0.9208\n",
            "Epoch 35/100\n",
            "98/98 [==============================] - 1s 13ms/step - loss: 6.2146e-04 - accuracy: 1.0000 - val_loss: 0.3245 - val_accuracy: 0.9208\n",
            "Epoch 36/100\n",
            "98/98 [==============================] - 1s 13ms/step - loss: 6.1589e-04 - accuracy: 1.0000 - val_loss: 0.3212 - val_accuracy: 0.9241\n",
            "Epoch 37/100\n",
            "98/98 [==============================] - 1s 14ms/step - loss: 5.9374e-04 - accuracy: 1.0000 - val_loss: 0.3228 - val_accuracy: 0.9142\n",
            "Epoch 38/100\n",
            "98/98 [==============================] - 1s 13ms/step - loss: 5.2358e-04 - accuracy: 1.0000 - val_loss: 0.3243 - val_accuracy: 0.9142\n",
            "Epoch 39/100\n",
            "98/98 [==============================] - 1s 13ms/step - loss: 4.8843e-04 - accuracy: 1.0000 - val_loss: 0.3167 - val_accuracy: 0.9274\n",
            "Epoch 40/100\n",
            "98/98 [==============================] - 1s 13ms/step - loss: 5.0220e-04 - accuracy: 1.0000 - val_loss: 0.3177 - val_accuracy: 0.9241\n",
            "Epoch 41/100\n",
            "98/98 [==============================] - 1s 13ms/step - loss: 4.5370e-04 - accuracy: 1.0000 - val_loss: 0.3206 - val_accuracy: 0.9208\n",
            "Epoch 42/100\n",
            "98/98 [==============================] - 1s 13ms/step - loss: 4.0693e-04 - accuracy: 1.0000 - val_loss: 0.3207 - val_accuracy: 0.9307\n",
            "Epoch 43/100\n",
            "98/98 [==============================] - 1s 12ms/step - loss: 5.5926e-04 - accuracy: 1.0000 - val_loss: 0.3135 - val_accuracy: 0.9274\n",
            "Epoch 44/100\n",
            "98/98 [==============================] - 1s 12ms/step - loss: 3.8696e-04 - accuracy: 1.0000 - val_loss: 0.3141 - val_accuracy: 0.9241\n",
            "Epoch 45/100\n",
            "98/98 [==============================] - 1s 12ms/step - loss: 3.5024e-04 - accuracy: 1.0000 - val_loss: 0.3133 - val_accuracy: 0.9274\n",
            "Epoch 46/100\n",
            "98/98 [==============================] - 1s 13ms/step - loss: 2.9064e-04 - accuracy: 1.0000 - val_loss: 0.3151 - val_accuracy: 0.9241\n",
            "Epoch 47/100\n",
            "98/98 [==============================] - 1s 13ms/step - loss: 3.7420e-04 - accuracy: 1.0000 - val_loss: 0.3260 - val_accuracy: 0.9175\n",
            "Epoch 48/100\n",
            "98/98 [==============================] - 1s 13ms/step - loss: 3.2697e-04 - accuracy: 1.0000 - val_loss: 0.3245 - val_accuracy: 0.9208\n",
            "Epoch 49/100\n",
            "98/98 [==============================] - 1s 12ms/step - loss: 4.4684e-04 - accuracy: 1.0000 - val_loss: 0.3219 - val_accuracy: 0.9274\n",
            "Epoch 50/100\n",
            "98/98 [==============================] - 1s 13ms/step - loss: 2.9118e-04 - accuracy: 1.0000 - val_loss: 0.3262 - val_accuracy: 0.9208\n",
            "Epoch 51/100\n",
            "98/98 [==============================] - 1s 13ms/step - loss: 3.2830e-04 - accuracy: 1.0000 - val_loss: 0.3199 - val_accuracy: 0.9241\n",
            "Epoch 52/100\n",
            "98/98 [==============================] - 1s 13ms/step - loss: 2.8629e-04 - accuracy: 1.0000 - val_loss: 0.3223 - val_accuracy: 0.9274\n",
            "Epoch 53/100\n",
            "98/98 [==============================] - 1s 13ms/step - loss: 2.5053e-04 - accuracy: 1.0000 - val_loss: 0.3194 - val_accuracy: 0.9340\n",
            "Epoch 54/100\n",
            "98/98 [==============================] - 1s 13ms/step - loss: 2.2954e-04 - accuracy: 1.0000 - val_loss: 0.3171 - val_accuracy: 0.9340\n",
            "Epoch 55/100\n",
            "98/98 [==============================] - 1s 13ms/step - loss: 3.1986e-04 - accuracy: 1.0000 - val_loss: 0.3082 - val_accuracy: 0.9340\n",
            "Epoch 56/100\n",
            "98/98 [==============================] - 1s 13ms/step - loss: 3.2369e-04 - accuracy: 1.0000 - val_loss: 0.3224 - val_accuracy: 0.9175\n",
            "Epoch 57/100\n",
            "98/98 [==============================] - 1s 13ms/step - loss: 2.4122e-04 - accuracy: 1.0000 - val_loss: 0.3002 - val_accuracy: 0.9274\n",
            "Epoch 58/100\n",
            "98/98 [==============================] - 1s 13ms/step - loss: 1.8957e-04 - accuracy: 1.0000 - val_loss: 0.3074 - val_accuracy: 0.9274\n",
            "Epoch 59/100\n",
            "98/98 [==============================] - 1s 13ms/step - loss: 2.1300e-04 - accuracy: 1.0000 - val_loss: 0.3095 - val_accuracy: 0.9274\n",
            "Epoch 60/100\n",
            "98/98 [==============================] - 1s 13ms/step - loss: 2.0011e-04 - accuracy: 1.0000 - val_loss: 0.3117 - val_accuracy: 0.9307\n",
            "Epoch 61/100\n",
            "98/98 [==============================] - 1s 14ms/step - loss: 1.5283e-04 - accuracy: 1.0000 - val_loss: 0.3118 - val_accuracy: 0.9274\n",
            "Epoch 62/100\n",
            "98/98 [==============================] - 1s 13ms/step - loss: 1.8834e-04 - accuracy: 1.0000 - val_loss: 0.3113 - val_accuracy: 0.9340\n",
            "Epoch 63/100\n",
            "98/98 [==============================] - 1s 13ms/step - loss: 1.9609e-04 - accuracy: 1.0000 - val_loss: 0.3061 - val_accuracy: 0.9241\n",
            "Epoch 64/100\n",
            "98/98 [==============================] - 1s 13ms/step - loss: 1.6953e-04 - accuracy: 1.0000 - val_loss: 0.2970 - val_accuracy: 0.9307\n",
            "Epoch 65/100\n",
            "98/98 [==============================] - 1s 13ms/step - loss: 1.2637e-04 - accuracy: 1.0000 - val_loss: 0.3035 - val_accuracy: 0.9307\n",
            "Epoch 66/100\n",
            "98/98 [==============================] - 1s 13ms/step - loss: 1.2263e-04 - accuracy: 1.0000 - val_loss: 0.3036 - val_accuracy: 0.9340\n",
            "Epoch 67/100\n",
            "98/98 [==============================] - 1s 13ms/step - loss: 1.5021e-04 - accuracy: 1.0000 - val_loss: 0.3028 - val_accuracy: 0.9307\n",
            "Epoch 68/100\n",
            "98/98 [==============================] - 1s 13ms/step - loss: 1.2322e-04 - accuracy: 1.0000 - val_loss: 0.3005 - val_accuracy: 0.9340\n",
            "Epoch 69/100\n",
            "98/98 [==============================] - 1s 13ms/step - loss: 9.6952e-05 - accuracy: 1.0000 - val_loss: 0.2979 - val_accuracy: 0.9274\n",
            "Epoch 70/100\n",
            "98/98 [==============================] - 1s 13ms/step - loss: 1.1012e-04 - accuracy: 1.0000 - val_loss: 0.2992 - val_accuracy: 0.9307\n",
            "Epoch 71/100\n",
            "98/98 [==============================] - 1s 13ms/step - loss: 9.7041e-05 - accuracy: 1.0000 - val_loss: 0.3013 - val_accuracy: 0.9274\n",
            "Epoch 72/100\n",
            "98/98 [==============================] - 1s 13ms/step - loss: 7.9851e-05 - accuracy: 1.0000 - val_loss: 0.3040 - val_accuracy: 0.9274\n",
            "Epoch 73/100\n",
            "98/98 [==============================] - 1s 13ms/step - loss: 7.0396e-05 - accuracy: 1.0000 - val_loss: 0.3070 - val_accuracy: 0.9274\n",
            "Epoch 74/100\n",
            "98/98 [==============================] - 1s 13ms/step - loss: 6.5129e-05 - accuracy: 1.0000 - val_loss: 0.3080 - val_accuracy: 0.9274\n",
            "Epoch 75/100\n",
            "98/98 [==============================] - 1s 13ms/step - loss: 7.5834e-05 - accuracy: 1.0000 - val_loss: 0.3015 - val_accuracy: 0.9274\n",
            "Epoch 76/100\n",
            "98/98 [==============================] - 1s 13ms/step - loss: 7.8015e-05 - accuracy: 1.0000 - val_loss: 0.3053 - val_accuracy: 0.9274\n",
            "Epoch 77/100\n",
            "98/98 [==============================] - 1s 13ms/step - loss: 6.9251e-05 - accuracy: 1.0000 - val_loss: 0.3052 - val_accuracy: 0.9274\n",
            "Epoch 78/100\n",
            "98/98 [==============================] - 1s 13ms/step - loss: 5.1223e-05 - accuracy: 1.0000 - val_loss: 0.3045 - val_accuracy: 0.9307\n",
            "Epoch 79/100\n",
            "98/98 [==============================] - 1s 15ms/step - loss: 6.4709e-05 - accuracy: 1.0000 - val_loss: 0.3032 - val_accuracy: 0.9340\n",
            "Epoch 80/100\n",
            "98/98 [==============================] - 1s 13ms/step - loss: 6.1970e-05 - accuracy: 1.0000 - val_loss: 0.3008 - val_accuracy: 0.9274\n",
            "Epoch 81/100\n",
            "98/98 [==============================] - 1s 13ms/step - loss: 7.0575e-05 - accuracy: 1.0000 - val_loss: 0.3037 - val_accuracy: 0.9241\n",
            "Epoch 82/100\n",
            "98/98 [==============================] - 1s 13ms/step - loss: 8.4194e-05 - accuracy: 1.0000 - val_loss: 0.3056 - val_accuracy: 0.9208\n",
            "Epoch 83/100\n",
            "98/98 [==============================] - 1s 13ms/step - loss: 5.5818e-05 - accuracy: 1.0000 - val_loss: 0.3045 - val_accuracy: 0.9274\n",
            "Epoch 84/100\n",
            "98/98 [==============================] - 1s 13ms/step - loss: 5.4250e-05 - accuracy: 1.0000 - val_loss: 0.3152 - val_accuracy: 0.9208\n",
            "Epoch 85/100\n",
            "98/98 [==============================] - 1s 13ms/step - loss: 4.3003e-05 - accuracy: 1.0000 - val_loss: 0.3098 - val_accuracy: 0.9274\n",
            "Epoch 86/100\n",
            "98/98 [==============================] - 1s 13ms/step - loss: 3.9480e-05 - accuracy: 1.0000 - val_loss: 0.3067 - val_accuracy: 0.9208\n",
            "Epoch 87/100\n",
            "98/98 [==============================] - 1s 13ms/step - loss: 3.9729e-05 - accuracy: 1.0000 - val_loss: 0.3055 - val_accuracy: 0.9274\n",
            "Epoch 88/100\n",
            "98/98 [==============================] - 1s 13ms/step - loss: 3.2647e-05 - accuracy: 1.0000 - val_loss: 0.3067 - val_accuracy: 0.9274\n",
            "Epoch 89/100\n",
            "98/98 [==============================] - 1s 13ms/step - loss: 3.1647e-05 - accuracy: 1.0000 - val_loss: 0.2985 - val_accuracy: 0.9274\n",
            "Epoch 90/100\n",
            "98/98 [==============================] - 1s 13ms/step - loss: 2.7926e-05 - accuracy: 1.0000 - val_loss: 0.3005 - val_accuracy: 0.9241\n",
            "Epoch 91/100\n",
            "98/98 [==============================] - 1s 14ms/step - loss: 2.6145e-05 - accuracy: 1.0000 - val_loss: 0.3020 - val_accuracy: 0.9241\n",
            "Epoch 92/100\n",
            "98/98 [==============================] - 1s 13ms/step - loss: 3.4242e-05 - accuracy: 1.0000 - val_loss: 0.3123 - val_accuracy: 0.9241\n",
            "Epoch 93/100\n",
            "98/98 [==============================] - 1s 13ms/step - loss: 2.5852e-05 - accuracy: 1.0000 - val_loss: 0.3095 - val_accuracy: 0.9241\n",
            "Epoch 94/100\n",
            "98/98 [==============================] - 1s 13ms/step - loss: 2.6212e-05 - accuracy: 1.0000 - val_loss: 0.3080 - val_accuracy: 0.9208\n",
            "Epoch 95/100\n",
            "98/98 [==============================] - 1s 13ms/step - loss: 2.1243e-05 - accuracy: 1.0000 - val_loss: 0.3023 - val_accuracy: 0.9241\n",
            "Epoch 96/100\n",
            "98/98 [==============================] - 1s 13ms/step - loss: 2.4631e-05 - accuracy: 1.0000 - val_loss: 0.3106 - val_accuracy: 0.9241\n",
            "Epoch 97/100\n",
            "98/98 [==============================] - 1s 13ms/step - loss: 2.2242e-05 - accuracy: 1.0000 - val_loss: 0.3171 - val_accuracy: 0.9241\n",
            "Epoch 98/100\n",
            "98/98 [==============================] - 1s 13ms/step - loss: 2.4139e-05 - accuracy: 1.0000 - val_loss: 0.3077 - val_accuracy: 0.9241\n",
            "Epoch 99/100\n",
            "98/98 [==============================] - 1s 13ms/step - loss: 1.5488e-05 - accuracy: 1.0000 - val_loss: 0.3085 - val_accuracy: 0.9208\n",
            "Epoch 100/100\n",
            "98/98 [==============================] - 1s 13ms/step - loss: 1.7055e-05 - accuracy: 1.0000 - val_loss: 0.3137 - val_accuracy: 0.9241\n"
          ],
          "name": "stdout"
        }
      ]
    },
    {
      "cell_type": "code",
      "metadata": {
        "id": "-SX-mhHg4iZf",
        "colab": {
          "base_uri": "https://localhost:8080/"
        },
        "outputId": "e4711094-c044-4f47-8205-dc413deb8186"
      },
      "source": [
        "y_test_pred = Arch_pre.predict(X_test, batch_size=1, verbose=0)\n",
        "acc = accuracy_score(y_test, y_test_pred.argmax(axis=1))\n",
        "\n",
        "print('Test Accuracy: \\t',acc)"
      ],
      "execution_count": 22,
      "outputs": [
        {
          "output_type": "stream",
          "text": [
            "Test Accuracy: \t 0.9306930693069307\n"
          ],
          "name": "stdout"
        }
      ]
    }
  ]
}