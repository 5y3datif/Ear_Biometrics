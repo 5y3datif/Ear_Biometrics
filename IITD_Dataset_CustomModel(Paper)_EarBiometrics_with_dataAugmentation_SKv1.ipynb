{
  "nbformat": 4,
  "nbformat_minor": 0,
  "metadata": {
    "colab": {
      "name": "IITD-Dataset-CustomModel(Paper)_EarBiometrics_with_dataAugmentation_SKv1.ipynb",
      "provenance": [],
      "collapsed_sections": [],
      "include_colab_link": true
    },
    "kernelspec": {
      "display_name": "Python 3",
      "language": "python",
      "name": "python3"
    },
    "language_info": {
      "codemirror_mode": {
        "name": "ipython",
        "version": 3
      },
      "file_extension": ".py",
      "mimetype": "text/x-python",
      "name": "python",
      "nbconvert_exporter": "python",
      "pygments_lexer": "ipython3",
      "version": "3.7.10"
    },
    "accelerator": "GPU"
  },
  "cells": [
    {
      "cell_type": "markdown",
      "metadata": {
        "id": "view-in-github",
        "colab_type": "text"
      },
      "source": [
        "<a href=\"https://colab.research.google.com/github/Shujaat123/Ear_Biometrics/blob/main/IITD_Dataset_CustomModel(Paper)_EarBiometrics_with_dataAugmentation_SKv1.ipynb\" target=\"_parent\"><img src=\"https://colab.research.google.com/assets/colab-badge.svg\" alt=\"Open In Colab\"/></a>"
      ]
    },
    {
      "cell_type": "code",
      "metadata": {
        "colab": {
          "base_uri": "https://localhost:8080/"
        },
        "id": "GoJ8BY9Tb_qb",
        "outputId": "8e1a894c-047f-4b13-8250-89fccfa4e57e"
      },
      "source": [
        "## Load useful packages\n",
        "!pip install wget\n",
        "!pip install py7zr\n",
        "\n",
        "import tensorflow as tf\n",
        "from tensorflow import keras\n",
        "from tensorflow.keras import layers\n",
        "\n",
        "# import keras\n",
        "import py7zr\n",
        "from zipfile import ZipFile\n",
        "from random import sample\n",
        "\n",
        "import PIL.Image as Image\n",
        "from scipy import io\n",
        "import matplotlib.pyplot as plt\n",
        "from  sklearn.model_selection import train_test_split\n",
        "from os import listdir\n",
        "from os import path\n",
        "import h5py\n",
        "# import keras.backend as K\n",
        "import tensorflow.keras.backend as K\n",
        "import numpy as np\n",
        "import wget\n",
        "from tensorflow.keras import regularizers\n",
        "from tensorflow.keras.callbacks import EarlyStopping\n",
        "from tensorflow.keras.callbacks import ModelCheckpoint\n",
        "from tensorflow.keras.layers import *\n",
        "from tensorflow.keras.models import Model\n",
        "from tensorflow.keras.models import load_model\n",
        "from keras.utils.np_utils import to_categorical\n",
        "from sklearn.metrics import accuracy_score, balanced_accuracy_score\n",
        "from sklearn.metrics import confusion_matrix"
      ],
      "execution_count": 1,
      "outputs": [
        {
          "output_type": "stream",
          "text": [
            "Collecting wget\n",
            "  Downloading https://files.pythonhosted.org/packages/47/6a/62e288da7bcda82b935ff0c6cfe542970f04e29c756b0e147251b2fb251f/wget-3.2.zip\n",
            "Building wheels for collected packages: wget\n",
            "  Building wheel for wget (setup.py) ... \u001b[?25l\u001b[?25hdone\n",
            "  Created wheel for wget: filename=wget-3.2-cp37-none-any.whl size=9675 sha256=f3ae967528fc03767c7e57b16fd8fb9a94d1505d95ee92374d843b29bcb066cc\n",
            "  Stored in directory: /root/.cache/pip/wheels/40/15/30/7d8f7cea2902b4db79e3fea550d7d7b85ecb27ef992b618f3f\n",
            "Successfully built wget\n",
            "Installing collected packages: wget\n",
            "Successfully installed wget-3.2\n",
            "Collecting py7zr\n",
            "\u001b[?25l  Downloading https://files.pythonhosted.org/packages/db/1c/d3e3a80fa8901fc232ec11ec0f2886c7e06cf38f3f40876438ada5659211/py7zr-0.16.1-py3-none-any.whl (65kB)\n",
            "\u001b[K     |████████████████████████████████| 71kB 5.0MB/s \n",
            "\u001b[?25hCollecting bcj-cffi<0.6.0,>=0.5.1\n",
            "  Downloading https://files.pythonhosted.org/packages/ab/1f/408e7b01375c863e01c25b1475d628deab7c9f85aeb74cced4caa5a512ce/bcj_cffi-0.5.1-cp37-cp37m-manylinux2014_x86_64.whl\n",
            "Collecting pyppmd>=0.14.0\n",
            "\u001b[?25l  Downloading https://files.pythonhosted.org/packages/7a/ef/4a44ba307d8440b135ea9096a0e91cd11a04c91f6bce6eb7c6eba7e95ba6/pyppmd-0.15.1-cp37-cp37m-manylinux2014_x86_64.whl (121kB)\n",
            "\u001b[K     |████████████████████████████████| 122kB 26.6MB/s \n",
            "\u001b[?25hCollecting multivolumefile>=0.2.3\n",
            "  Downloading https://files.pythonhosted.org/packages/22/31/ec5f46fd4c83185b806aa9c736e228cb780f13990a9cf4da0beb70025fcc/multivolumefile-0.2.3-py3-none-any.whl\n",
            "Collecting pyzstd<0.15.0,>=0.14.4\n",
            "\u001b[?25l  Downloading https://files.pythonhosted.org/packages/a3/e9/fe897f8bb96163645a5b2d3a60ff8bfa6fcdedff4691a3c6c861b0324ef4/pyzstd-0.14.4-cp37-cp37m-manylinux2014_x86_64.whl (2.2MB)\n",
            "\u001b[K     |████████████████████████████████| 2.2MB 31.8MB/s \n",
            "\u001b[?25hCollecting pycryptodomex>=3.6.6\n",
            "\u001b[?25l  Downloading https://files.pythonhosted.org/packages/e5/9d/99a949925b5fc9604cb65219951fd270ef30d0fd4f064d1b363eb8bb5e9b/pycryptodomex-3.10.1-cp35-abi3-manylinux2010_x86_64.whl (1.9MB)\n",
            "\u001b[K     |████████████████████████████████| 1.9MB 41.4MB/s \n",
            "\u001b[?25hCollecting texttable\n",
            "  Downloading https://files.pythonhosted.org/packages/75/23/8170868d04b153b1b9ed1bb84348212bb4a08f31b292ef9d7f6ea648fd49/texttable-1.6.4-py2.py3-none-any.whl\n",
            "Requirement already satisfied: importlib-metadata; python_version < \"3.8\" in /usr/local/lib/python3.7/dist-packages (from py7zr) (4.6.1)\n",
            "Collecting brotli>=1.0.9; platform_python_implementation == \"CPython\"\n",
            "\u001b[?25l  Downloading https://files.pythonhosted.org/packages/15/ea/5bd575511b37bbd1c794606a0a621e6feff8e96b7dd007a86a5d218b2d94/Brotli-1.0.9-cp37-cp37m-manylinux1_x86_64.whl (357kB)\n",
            "\u001b[K     |████████████████████████████████| 358kB 50.1MB/s \n",
            "\u001b[?25hRequirement already satisfied: cffi>=1.14.0 in /usr/local/lib/python3.7/dist-packages (from bcj-cffi<0.6.0,>=0.5.1->py7zr) (1.14.6)\n",
            "Requirement already satisfied: zipp>=0.5 in /usr/local/lib/python3.7/dist-packages (from importlib-metadata; python_version < \"3.8\"->py7zr) (3.5.0)\n",
            "Requirement already satisfied: typing-extensions>=3.6.4; python_version < \"3.8\" in /usr/local/lib/python3.7/dist-packages (from importlib-metadata; python_version < \"3.8\"->py7zr) (3.7.4.3)\n",
            "Requirement already satisfied: pycparser in /usr/local/lib/python3.7/dist-packages (from cffi>=1.14.0->bcj-cffi<0.6.0,>=0.5.1->py7zr) (2.20)\n",
            "Installing collected packages: bcj-cffi, pyppmd, multivolumefile, pyzstd, pycryptodomex, texttable, brotli, py7zr\n",
            "Successfully installed bcj-cffi-0.5.1 brotli-1.0.9 multivolumefile-0.2.3 py7zr-0.16.1 pycryptodomex-3.10.1 pyppmd-0.15.1 pyzstd-0.14.4 texttable-1.6.4\n"
          ],
          "name": "stdout"
        }
      ]
    },
    {
      "cell_type": "code",
      "metadata": {
        "colab": {
          "base_uri": "https://localhost:8080/"
        },
        "id": "4NI4AmSEfuKC",
        "outputId": "c65de077-58ca-439d-8088-409abc87707e"
      },
      "source": [
        "data_path = 'https://github.com/Alishba18001778/EarClassification/blob/main/IITD_Data_Tensor.mat?raw=true'\n",
        "Data_filename = 'IITD_Data_Tensor.mat'\n",
        "\n",
        "data_path_labels = 'https://github.com/Alishba18001778/EarClassification/blob/main/IITD_Labels.mat?raw=true'\n",
        "labels_filename = 'IITD_Labels.mat'\n",
        "\n",
        "if(path.exists(labels_filename)):\n",
        "  !rm $labels_filename\n",
        "  print('existing file:', labels_filename, ' has been deleted')\n",
        "print('downloading latest version of file:', labels_filename)\n",
        "wget.download(data_path_labels, labels_filename)\n",
        "\n",
        "if(path.exists(Data_filename)):\n",
        "  !rm $Data_filename\n",
        "  print('existing file:', Data_filename, ' has been deleted')\n",
        "print('downloading latest version of file:', Data_filename)\n",
        "wget.download(data_path, Data_filename)\n",
        "# \n",
        "u = io.loadmat('IITD_Data_Tensor.mat')\n",
        "v = io.loadmat('IITD_Labels.mat')\n",
        "sub_labels = v[\"sub_labels\"]\n",
        "sub_labels = np.squeeze(sub_labels.transpose())\n",
        "ear_images = u[\"ear_images\"]\n",
        "ear_images = np.asarray(ear_images).astype('float32')\n",
        "\n",
        "# sub_labels = to_categorical(np.array(sub_labels))\n",
        "print(ear_images.shape)\n",
        "print(sub_labels.shape)"
      ],
      "execution_count": 2,
      "outputs": [
        {
          "output_type": "stream",
          "text": [
            "downloading latest version of file: IITD_Labels.mat\n",
            "downloading latest version of file: IITD_Data_Tensor.mat\n",
            "(793, 180, 50)\n",
            "(793,)\n"
          ],
          "name": "stdout"
        }
      ]
    },
    {
      "cell_type": "code",
      "metadata": {
        "colab": {
          "base_uri": "https://localhost:8080/"
        },
        "id": "H6f9PJYHn1St",
        "outputId": "d62ac485-6f8f-4ed8-ef7d-050bcfe97e08"
      },
      "source": [
        "X_train, X_test, y_train, y_test = train_test_split(ear_images, sub_labels, test_size=0.382093316519, stratify=sub_labels, random_state=42)\n",
        "# X_train, X_test, y_train, y_test = train_test_split(ear_images, sub_labels, test_size=0.7205, stratify=sub_labels, random_state=42)\n",
        "print(X_train.shape)\n",
        "print(y_train.shape)\n",
        "print(X_test.shape)\n",
        "print(y_test.shape)"
      ],
      "execution_count": 3,
      "outputs": [
        {
          "output_type": "stream",
          "text": [
            "(490, 180, 50)\n",
            "(490,)\n",
            "(303, 180, 50)\n",
            "(303,)\n"
          ],
          "name": "stdout"
        }
      ]
    },
    {
      "cell_type": "code",
      "metadata": {
        "id": "LmWDehu_b50D"
      },
      "source": [
        "## Functions for Augmentation \n",
        "import random\n",
        "\n",
        "from scipy import ndimage\n",
        "\n",
        "@tf.function(input_signature=[tf.TensorSpec((180,50), tf.float32)])\n",
        "def rotate(volume):\n",
        "  def scipy_rotate(volume):\n",
        "    # define some rotation angles\n",
        "    angles = [-5, -2.5, -1.25, 0, 1.25, 2.5, 5]\n",
        "    # pick angles at random\n",
        "    angle = random.choice(angles)\n",
        "    # angle = np.random.uniform(low=-5,high=5)\n",
        "    # rotate volume\n",
        "    volume = ndimage.rotate(volume, angle, reshape=False)\n",
        "    volume[volume < 0] = 0\n",
        "    volume[volume > 1] = 1\n",
        "    return volume\n",
        "    \n",
        "  augmented_volume = tf.numpy_function(scipy_rotate, [volume], tf.float32)\n",
        "  return augmented_volume\n",
        "\n",
        "def train_preprocessing(volume, label):\n",
        "    \"\"\"Process training data by rotating and adding a channel.\"\"\"\n",
        "    # Rotate volume\n",
        "    volume = rotate(volume)\n",
        "    volume = tf.expand_dims(volume, axis=2)\n",
        "    return volume, label\n",
        "\n",
        "\n",
        "def validation_preprocessing(volume, label):\n",
        "    \"\"\"Process validation data by only adding a channel.\"\"\"\n",
        "    volume = tf.expand_dims(volume, axis=2)\n",
        "    return volume, label  "
      ],
      "execution_count": 4,
      "outputs": []
    },
    {
      "cell_type": "code",
      "metadata": {
        "id": "oMayf8bT3F_m",
        "colab": {
          "base_uri": "https://localhost:8080/",
          "height": 304
        },
        "outputId": "3104d600-606c-4a1f-fe37-7327425c5cbb"
      },
      "source": [
        "### Write Augmentation code here\n",
        "# Define data loaders.\n",
        "train_loader = tf.data.Dataset.from_tensor_slices((X_train, y_train))\n",
        "validation_loader = tf.data.Dataset.from_tensor_slices((X_test, y_test))\n",
        "\n",
        "batch_size = 5\n",
        "# Augment the on the fly during training.\n",
        "train_dataset = (\n",
        "    train_loader.shuffle(len(X_train))\n",
        "    .map(train_preprocessing)\n",
        "    .batch(batch_size)\n",
        "    .prefetch(batch_size)\n",
        ")\n",
        "# Only rescale.\n",
        "validation_dataset = (\n",
        "    validation_loader.shuffle(len(X_test))\n",
        "    .map(validation_preprocessing)\n",
        "    .batch(batch_size)\n",
        "    .prefetch(batch_size)\n",
        ")\n",
        "\n",
        "import matplotlib.pyplot as plt\n",
        "\n",
        "data = train_dataset.take(1)\n",
        "images, labels = list(data)[0]\n",
        "images = images.numpy()\n",
        "image = images[0]\n",
        "print(\"Dimension of the CT scan is:\", image.shape)\n",
        "plt.imshow(np.squeeze(image[:, :]), cmap=\"gray\")"
      ],
      "execution_count": 5,
      "outputs": [
        {
          "output_type": "stream",
          "text": [
            "Dimension of the CT scan is: (180, 50, 1)\n"
          ],
          "name": "stdout"
        },
        {
          "output_type": "execute_result",
          "data": {
            "text/plain": [
              "<matplotlib.image.AxesImage at 0x7f3880362150>"
            ]
          },
          "metadata": {
            "tags": []
          },
          "execution_count": 5
        },
        {
          "output_type": "display_data",
          "data": {
            "image/png": "[encoded data removed]",
            "text/plain": [
              "<Figure size 432x288 with 1 Axes>"
            ]
          },
          "metadata": {
            "tags": [],
            "needs_background": "light"
          }
        }
      ]
    },
    {
      "cell_type": "code",
      "metadata": {
        "colab": {
          "base_uri": "https://localhost:8080/"
        },
        "id": "BTzprQ3t3giN",
        "outputId": "2ccf1590-f622-46f0-d9e5-8deb0ba65b4b"
      },
      "source": [
        "#Custom Model\n",
        "def new_model():\n",
        "  input_img = Input(shape=(180,50, 1))\n",
        "  num_filter = 8\n",
        "  kernel_size = 3\n",
        "  strides = 1\n",
        "  \n",
        "  # input_zoomed =  tf.keras.layers.experimental.preprocessing.RandomZoom(0.1, 0.1)(input_img)\n",
        "  # input_zoomed =  tf.keras.layers.experimental.preprocessing.RandomContrast(0.1, 0.1)(input_zoomed)\n",
        "\n",
        "  x = Conv2D(num_filter, kernel_size, strides, activation='relu',padding = 'same', name = 'enc1')(input_img)\n",
        "  x = MaxPool2D((2, 2))(x)\n",
        "\n",
        "    \n",
        "  x = Conv2D(2*num_filter, kernel_size, strides, activation='relu', padding = 'same', name = 'enc3')(x) \n",
        "  x = BatchNormalization()(x)\n",
        "  x = MaxPool2D((2, 2))(x)   \n",
        " \n",
        "    \n",
        "  x = Conv2D(4*num_filter, kernel_size, strides, activation='relu', padding = 'same', name = 'enc4')(x) \n",
        "  x = MaxPool2D((2, 2))(x) \n",
        "\n",
        "  x = Conv2D(8*num_filter, kernel_size, strides, activation='relu', padding = 'same', name = 'enc5')(x) \n",
        "  x = BatchNormalization()(x)\n",
        "  x = MaxPool2D((2, 2))(x) \n",
        "  \n",
        "  x = Conv2D(16*num_filter, kernel_size, strides, activation='relu', padding = 'same', name = 'enc6')(x) \n",
        "  x = MaxPool2D((2, 2))(x) \n",
        "\n",
        "  \n",
        "  x = Conv2D(32*num_filter, kernel_size, strides, activation='relu', padding = 'same', name = 'enc7')(x) \n",
        "  x = BatchNormalization()(x)\n",
        "\n",
        "  y = Flatten()(x) \n",
        "\n",
        "  output = Dense(221, activation='softmax')(y)\n",
        "\n",
        "  Arch_pre = Model(input_img, output)\n",
        "  \n",
        "  Arch_pre.compile(optimizer=keras.optimizers.Adam(learning_rate=0.001),\n",
        "                loss=keras.losses.SparseCategoricalCrossentropy(),\n",
        "                metrics=['accuracy'])\n",
        "  return Arch_pre\n",
        "\n",
        "Arch_pre= new_model()\n",
        "Arch_pre.summary()"
      ],
      "execution_count": 6,
      "outputs": [
        {
          "output_type": "stream",
          "text": [
            "Model: \"model\"\n",
            "_________________________________________________________________\n",
            "Layer (type)                 Output Shape              Param #   \n",
            "=================================================================\n",
            "input_1 (InputLayer)         [(None, 180, 50, 1)]      0         \n",
            "_________________________________________________________________\n",
            "enc1 (Conv2D)                (None, 180, 50, 8)        80        \n",
            "_________________________________________________________________\n",
            "max_pooling2d (MaxPooling2D) (None, 90, 25, 8)         0         \n",
            "_________________________________________________________________\n",
            "enc3 (Conv2D)                (None, 90, 25, 16)        1168      \n",
            "_________________________________________________________________\n",
            "batch_normalization (BatchNo (None, 90, 25, 16)        64        \n",
            "_________________________________________________________________\n",
            "max_pooling2d_1 (MaxPooling2 (None, 45, 12, 16)        0         \n",
            "_________________________________________________________________\n",
            "enc4 (Conv2D)                (None, 45, 12, 32)        4640      \n",
            "_________________________________________________________________\n",
            "max_pooling2d_2 (MaxPooling2 (None, 22, 6, 32)         0         \n",
            "_________________________________________________________________\n",
            "enc5 (Conv2D)                (None, 22, 6, 64)         18496     \n",
            "_________________________________________________________________\n",
            "batch_normalization_1 (Batch (None, 22, 6, 64)         256       \n",
            "_________________________________________________________________\n",
            "max_pooling2d_3 (MaxPooling2 (None, 11, 3, 64)         0         \n",
            "_________________________________________________________________\n",
            "enc6 (Conv2D)                (None, 11, 3, 128)        73856     \n",
            "_________________________________________________________________\n",
            "max_pooling2d_4 (MaxPooling2 (None, 5, 1, 128)         0         \n",
            "_________________________________________________________________\n",
            "enc7 (Conv2D)                (None, 5, 1, 256)         295168    \n",
            "_________________________________________________________________\n",
            "batch_normalization_2 (Batch (None, 5, 1, 256)         1024      \n",
            "_________________________________________________________________\n",
            "flatten (Flatten)            (None, 1280)              0         \n",
            "_________________________________________________________________\n",
            "dense (Dense)                (None, 221)               283101    \n",
            "=================================================================\n",
            "Total params: 677,853\n",
            "Trainable params: 677,181\n",
            "Non-trainable params: 672\n",
            "_________________________________________________________________\n"
          ],
          "name": "stdout"
        }
      ]
    },
    {
      "cell_type": "code",
      "metadata": {
        "colab": {
          "base_uri": "https://localhost:8080/"
        },
        "id": "EBTVJNSM4MDH",
        "outputId": "48f64506-405a-4d2d-f3b0-97f80c6fb393"
      },
      "source": [
        "Arch_pre= new_model()\n",
        "#Using the best model \n",
        "es = EarlyStopping(monitor='val_loss', patience=100, mode='min')\n",
        "checkpoint = ModelCheckpoint('models\\\\modelweather-best.h5',\n",
        "                                  verbose=0, monitor='val_loss',save_best_only=True, mode='auto')\n",
        "\n",
        "# Arch_pre.fit(X_train, y_train,\n",
        "#                 epochs=100,\n",
        "#                 batch_size=5,\n",
        "#                 shuffle=True,\n",
        "#                 validation_data=(X_test, y_test),\n",
        "#                 callbacks = [es, checkpoint]\n",
        "#                 )\n",
        "\n",
        "Arch_pre.fit(train_dataset,\n",
        "             validation_data=validation_dataset,\n",
        "             epochs=100,\n",
        "             callbacks = [es, checkpoint])\n",
        "\n",
        "del Arch_pre  # deletes the existing model\n",
        "Arch_pre = load_model('models\\\\modelweather-best.h5')"
      ],
      "execution_count": null,
      "outputs": [
        {
          "output_type": "stream",
          "text": [
            "Epoch 1/100\n",
            "98/98 [==============================] - 33s 17ms/step - loss: 6.5026 - accuracy: 0.0082 - val_loss: 5.7998 - val_accuracy: 0.0099\n",
            "Epoch 2/100\n",
            "98/98 [==============================] - 1s 13ms/step - loss: 5.3883 - accuracy: 0.0306 - val_loss: 6.1610 - val_accuracy: 0.0066\n",
            "Epoch 3/100\n",
            "98/98 [==============================] - 1s 15ms/step - loss: 4.1190 - accuracy: 0.1469 - val_loss: 6.5785 - val_accuracy: 0.0066\n",
            "Epoch 4/100\n",
            "98/98 [==============================] - 1s 13ms/step - loss: 2.5314 - accuracy: 0.3898 - val_loss: 5.1476 - val_accuracy: 0.0363\n",
            "Epoch 5/100\n",
            "98/98 [==============================] - 1s 13ms/step - loss: 1.2979 - accuracy: 0.6959 - val_loss: 2.4712 - val_accuracy: 0.4026\n",
            "Epoch 6/100\n",
            "98/98 [==============================] - 1s 15ms/step - loss: 0.6048 - accuracy: 0.8571 - val_loss: 1.0446 - val_accuracy: 0.7789\n",
            "Epoch 7/100\n",
            "98/98 [==============================] - 1s 13ms/step - loss: 0.3686 - accuracy: 0.9143 - val_loss: 0.7497 - val_accuracy: 0.8251\n",
            "Epoch 8/100\n",
            "98/98 [==============================] - 1s 13ms/step - loss: 0.1892 - accuracy: 0.9673 - val_loss: 0.7792 - val_accuracy: 0.7723\n",
            "Epoch 9/100\n",
            "98/98 [==============================] - 1s 13ms/step - loss: 0.1081 - accuracy: 0.9857 - val_loss: 0.5295 - val_accuracy: 0.8647\n",
            "Epoch 10/100\n",
            "98/98 [==============================] - 1s 13ms/step - loss: 0.0609 - accuracy: 0.9918 - val_loss: 0.4593 - val_accuracy: 0.8878\n",
            "Epoch 11/100\n",
            "98/98 [==============================] - 1s 13ms/step - loss: 0.0612 - accuracy: 0.9918 - val_loss: 0.5144 - val_accuracy: 0.8812\n",
            "Epoch 12/100\n",
            "98/98 [==============================] - 1s 13ms/step - loss: 0.0543 - accuracy: 0.9898 - val_loss: 0.5683 - val_accuracy: 0.8746\n",
            "Epoch 13/100\n",
            "98/98 [==============================] - 1s 15ms/step - loss: 0.0881 - accuracy: 0.9878 - val_loss: 0.6735 - val_accuracy: 0.8515\n",
            "Epoch 14/100\n",
            "98/98 [==============================] - 1s 14ms/step - loss: 0.0599 - accuracy: 0.9837 - val_loss: 0.5974 - val_accuracy: 0.8713\n",
            "Epoch 15/100\n",
            "98/98 [==============================] - 1s 13ms/step - loss: 0.0654 - accuracy: 0.9816 - val_loss: 0.4800 - val_accuracy: 0.8878\n",
            "Epoch 16/100\n",
            "98/98 [==============================] - 1s 13ms/step - loss: 0.0459 - accuracy: 0.9898 - val_loss: 0.5989 - val_accuracy: 0.8482\n",
            "Epoch 17/100\n",
            "98/98 [==============================] - 1s 13ms/step - loss: 0.1532 - accuracy: 0.9653 - val_loss: 0.8780 - val_accuracy: 0.8020\n",
            "Epoch 18/100\n",
            "98/98 [==============================] - 1s 13ms/step - loss: 0.1049 - accuracy: 0.9694 - val_loss: 0.6489 - val_accuracy: 0.8350\n",
            "Epoch 19/100\n",
            "98/98 [==============================] - 1s 13ms/step - loss: 0.0705 - accuracy: 0.9878 - val_loss: 0.9459 - val_accuracy: 0.7921\n",
            "Epoch 20/100\n",
            "98/98 [==============================] - 1s 13ms/step - loss: 0.2702 - accuracy: 0.9388 - val_loss: 0.8398 - val_accuracy: 0.8251\n",
            "Epoch 21/100\n",
            "98/98 [==============================] - 1s 13ms/step - loss: 0.1694 - accuracy: 0.9612 - val_loss: 1.1747 - val_accuracy: 0.7492\n",
            "Epoch 22/100\n",
            "98/98 [==============================] - 1s 13ms/step - loss: 0.1913 - accuracy: 0.9633 - val_loss: 0.9729 - val_accuracy: 0.7690\n",
            "Epoch 23/100\n",
            "98/98 [==============================] - 1s 13ms/step - loss: 0.0383 - accuracy: 0.9918 - val_loss: 0.6760 - val_accuracy: 0.8713\n",
            "Epoch 24/100\n",
            "98/98 [==============================] - 1s 13ms/step - loss: 0.0872 - accuracy: 0.9837 - val_loss: 0.6514 - val_accuracy: 0.8647\n",
            "Epoch 25/100\n",
            "98/98 [==============================] - 1s 13ms/step - loss: 0.0116 - accuracy: 0.9980 - val_loss: 0.4869 - val_accuracy: 0.8845\n",
            "Epoch 26/100\n",
            "98/98 [==============================] - 1s 14ms/step - loss: 0.0058 - accuracy: 1.0000 - val_loss: 0.4141 - val_accuracy: 0.9142\n",
            "Epoch 27/100\n",
            "98/98 [==============================] - 1s 13ms/step - loss: 0.0034 - accuracy: 1.0000 - val_loss: 0.3940 - val_accuracy: 0.9175\n",
            "Epoch 28/100\n",
            "98/98 [==============================] - 1s 13ms/step - loss: 0.0026 - accuracy: 1.0000 - val_loss: 0.3844 - val_accuracy: 0.9142\n",
            "Epoch 29/100\n",
            "98/98 [==============================] - 1s 15ms/step - loss: 0.0117 - accuracy: 0.9980 - val_loss: 0.4297 - val_accuracy: 0.9010\n",
            "Epoch 30/100\n",
            "98/98 [==============================] - 1s 14ms/step - loss: 0.0018 - accuracy: 1.0000 - val_loss: 0.4087 - val_accuracy: 0.9043\n",
            "Epoch 31/100\n",
            "98/98 [==============================] - 1s 13ms/step - loss: 0.0067 - accuracy: 0.9980 - val_loss: 0.3904 - val_accuracy: 0.9109\n",
            "Epoch 32/100\n",
            "98/98 [==============================] - 1s 13ms/step - loss: 0.0040 - accuracy: 0.9980 - val_loss: 0.5013 - val_accuracy: 0.8845\n",
            "Epoch 33/100\n",
            "98/98 [==============================] - 1s 13ms/step - loss: 0.0023 - accuracy: 1.0000 - val_loss: 0.4175 - val_accuracy: 0.9043\n",
            "Epoch 34/100\n",
            "98/98 [==============================] - 1s 13ms/step - loss: 0.0401 - accuracy: 0.9980 - val_loss: 0.4779 - val_accuracy: 0.8944\n",
            "Epoch 35/100\n",
            "98/98 [==============================] - 1s 13ms/step - loss: 0.0411 - accuracy: 0.9939 - val_loss: 0.6221 - val_accuracy: 0.8482\n",
            "Epoch 36/100\n",
            "98/98 [==============================] - 1s 13ms/step - loss: 0.0822 - accuracy: 0.9816 - val_loss: 0.7976 - val_accuracy: 0.8548\n",
            "Epoch 37/100\n",
            "98/98 [==============================] - 1s 13ms/step - loss: 0.1871 - accuracy: 0.9633 - val_loss: 1.0807 - val_accuracy: 0.7888\n",
            "Epoch 38/100\n",
            "98/98 [==============================] - 1s 13ms/step - loss: 0.2937 - accuracy: 0.9204 - val_loss: 3.6269 - val_accuracy: 0.4455\n",
            "Epoch 39/100\n",
            "98/98 [==============================] - 1s 13ms/step - loss: 0.3509 - accuracy: 0.9061 - val_loss: 4.6700 - val_accuracy: 0.1980\n",
            "Epoch 40/100\n",
            "98/98 [==============================] - 1s 13ms/step - loss: 0.1854 - accuracy: 0.9490 - val_loss: 0.7792 - val_accuracy: 0.8284\n",
            "Epoch 41/100\n",
            "98/98 [==============================] - 1s 13ms/step - loss: 0.0667 - accuracy: 0.9878 - val_loss: 0.8314 - val_accuracy: 0.8152\n",
            "Epoch 42/100\n",
            "98/98 [==============================] - 1s 13ms/step - loss: 0.0390 - accuracy: 0.9878 - val_loss: 0.7132 - val_accuracy: 0.8713\n",
            "Epoch 43/100\n",
            "98/98 [==============================] - 1s 13ms/step - loss: 0.0402 - accuracy: 0.9898 - val_loss: 0.5445 - val_accuracy: 0.9010\n",
            "Epoch 44/100\n",
            "98/98 [==============================] - 1s 13ms/step - loss: 0.0139 - accuracy: 0.9980 - val_loss: 0.5955 - val_accuracy: 0.8977\n",
            "Epoch 45/100\n",
            "98/98 [==============================] - 1s 15ms/step - loss: 0.0192 - accuracy: 0.9939 - val_loss: 0.6334 - val_accuracy: 0.8779\n",
            "Epoch 46/100\n",
            "98/98 [==============================] - 1s 13ms/step - loss: 0.0079 - accuracy: 1.0000 - val_loss: 0.5353 - val_accuracy: 0.9076\n",
            "Epoch 47/100\n",
            "98/98 [==============================] - 1s 13ms/step - loss: 0.0020 - accuracy: 1.0000 - val_loss: 0.5017 - val_accuracy: 0.9241\n",
            "Epoch 48/100\n",
            "98/98 [==============================] - 1s 13ms/step - loss: 9.6226e-04 - accuracy: 1.0000 - val_loss: 0.4876 - val_accuracy: 0.9175\n",
            "Epoch 49/100\n",
            "98/98 [==============================] - 1s 14ms/step - loss: 0.0012 - accuracy: 1.0000 - val_loss: 0.5042 - val_accuracy: 0.9142\n",
            "Epoch 50/100\n",
            "98/98 [==============================] - 1s 13ms/step - loss: 0.0025 - accuracy: 1.0000 - val_loss: 0.4848 - val_accuracy: 0.9043\n",
            "Epoch 51/100\n",
            "98/98 [==============================] - 1s 13ms/step - loss: 0.0017 - accuracy: 1.0000 - val_loss: 0.4748 - val_accuracy: 0.9043\n",
            "Epoch 52/100\n",
            "98/98 [==============================] - 1s 13ms/step - loss: 7.3364e-04 - accuracy: 1.0000 - val_loss: 0.4711 - val_accuracy: 0.9109\n",
            "Epoch 53/100\n",
            "98/98 [==============================] - 1s 13ms/step - loss: 9.2241e-04 - accuracy: 1.0000 - val_loss: 0.4682 - val_accuracy: 0.9142\n",
            "Epoch 54/100\n",
            "98/98 [==============================] - 1s 13ms/step - loss: 4.3945e-04 - accuracy: 1.0000 - val_loss: 0.4593 - val_accuracy: 0.9241\n",
            "Epoch 55/100\n",
            "98/98 [==============================] - 1s 13ms/step - loss: 3.2499e-04 - accuracy: 1.0000 - val_loss: 0.4524 - val_accuracy: 0.9241\n",
            "Epoch 56/100\n",
            "98/98 [==============================] - 1s 13ms/step - loss: 4.2673e-04 - accuracy: 1.0000 - val_loss: 0.4565 - val_accuracy: 0.9241\n",
            "Epoch 57/100\n",
            "98/98 [==============================] - 1s 13ms/step - loss: 3.5626e-04 - accuracy: 1.0000 - val_loss: 0.4541 - val_accuracy: 0.9208\n",
            "Epoch 58/100\n",
            "98/98 [==============================] - 1s 13ms/step - loss: 3.2488e-04 - accuracy: 1.0000 - val_loss: 0.4541 - val_accuracy: 0.9208\n",
            "Epoch 59/100\n",
            "98/98 [==============================] - 1s 13ms/step - loss: 2.4985e-04 - accuracy: 1.0000 - val_loss: 0.4543 - val_accuracy: 0.9241\n",
            "Epoch 60/100\n",
            "98/98 [==============================] - 1s 13ms/step - loss: 2.7908e-04 - accuracy: 1.0000 - val_loss: 0.4589 - val_accuracy: 0.9241\n",
            "Epoch 61/100\n",
            "98/98 [==============================] - 1s 13ms/step - loss: 2.7411e-04 - accuracy: 1.0000 - val_loss: 0.4624 - val_accuracy: 0.9175\n",
            "Epoch 62/100\n",
            "98/98 [==============================] - 1s 13ms/step - loss: 2.4742e-04 - accuracy: 1.0000 - val_loss: 0.4590 - val_accuracy: 0.9175\n",
            "Epoch 63/100\n",
            "98/98 [==============================] - 1s 13ms/step - loss: 0.0193 - accuracy: 0.9980 - val_loss: 2.3698 - val_accuracy: 0.5083\n",
            "Epoch 64/100\n",
            "98/98 [==============================] - 1s 13ms/step - loss: 0.0672 - accuracy: 0.9959 - val_loss: 1.6008 - val_accuracy: 0.7261\n",
            "Epoch 65/100\n",
            "98/98 [==============================] - 1s 14ms/step - loss: 0.1872 - accuracy: 0.9633 - val_loss: 3.0427 - val_accuracy: 0.3663\n",
            "Epoch 66/100\n",
            "98/98 [==============================] - 1s 13ms/step - loss: 0.4779 - accuracy: 0.8694 - val_loss: 2.6982 - val_accuracy: 0.5512\n",
            "Epoch 67/100\n",
            "98/98 [==============================] - 1s 14ms/step - loss: 0.2801 - accuracy: 0.9245 - val_loss: 1.2704 - val_accuracy: 0.7690\n",
            "Epoch 68/100\n",
            "98/98 [==============================] - 1s 13ms/step - loss: 0.1700 - accuracy: 0.9551 - val_loss: 0.9097 - val_accuracy: 0.8053\n",
            "Epoch 69/100\n",
            "98/98 [==============================] - 1s 13ms/step - loss: 0.1004 - accuracy: 0.9816 - val_loss: 0.8681 - val_accuracy: 0.8284\n",
            "Epoch 70/100\n",
            "98/98 [==============================] - 1s 15ms/step - loss: 0.0635 - accuracy: 0.9898 - val_loss: 0.7623 - val_accuracy: 0.8746\n",
            "Epoch 71/100\n",
            "98/98 [==============================] - 1s 15ms/step - loss: 0.0291 - accuracy: 0.9878 - val_loss: 0.5612 - val_accuracy: 0.8746\n",
            "Epoch 72/100\n",
            "98/98 [==============================] - 1s 13ms/step - loss: 0.0601 - accuracy: 0.9878 - val_loss: 0.6827 - val_accuracy: 0.8647\n",
            "Epoch 73/100\n",
            "98/98 [==============================] - 1s 13ms/step - loss: 0.0465 - accuracy: 0.9857 - val_loss: 0.6627 - val_accuracy: 0.8845\n",
            "Epoch 74/100\n",
            "98/98 [==============================] - 1s 13ms/step - loss: 0.0181 - accuracy: 0.9980 - val_loss: 0.5554 - val_accuracy: 0.8878\n",
            "Epoch 75/100\n",
            "98/98 [==============================] - 1s 13ms/step - loss: 0.0058 - accuracy: 0.9980 - val_loss: 0.5335 - val_accuracy: 0.8845\n",
            "Epoch 76/100\n",
            "98/98 [==============================] - 1s 13ms/step - loss: 0.0055 - accuracy: 0.9980 - val_loss: 0.5045 - val_accuracy: 0.8878\n",
            "Epoch 77/100\n",
            "98/98 [==============================] - 1s 14ms/step - loss: 0.0049 - accuracy: 0.9980 - val_loss: 0.5342 - val_accuracy: 0.9109\n",
            "Epoch 78/100\n",
            "98/98 [==============================] - 1s 13ms/step - loss: 7.3011e-04 - accuracy: 1.0000 - val_loss: 0.5103 - val_accuracy: 0.9076\n",
            "Epoch 79/100\n",
            "98/98 [==============================] - 1s 13ms/step - loss: 6.6598e-04 - accuracy: 1.0000 - val_loss: 0.4984 - val_accuracy: 0.9109\n",
            "Epoch 80/100\n",
            "98/98 [==============================] - 1s 13ms/step - loss: 9.8193e-04 - accuracy: 1.0000 - val_loss: 0.4972 - val_accuracy: 0.9076\n",
            "Epoch 81/100\n",
            "98/98 [==============================] - 1s 13ms/step - loss: 0.0014 - accuracy: 1.0000 - val_loss: 0.4943 - val_accuracy: 0.9076\n",
            "Epoch 82/100\n",
            "35/98 [=========>....................] - ETA: 0s - loss: 2.8802e-04 - accuracy: 1.0000"
          ],
          "name": "stdout"
        }
      ]
    },
    {
      "cell_type": "code",
      "metadata": {
        "id": "-SX-mhHg4iZf"
      },
      "source": [
        "y_test_pred = Arch_pre.predict(X_test, batch_size=1, verbose=0)\n",
        "acc = accuracy_score(y_test, y_test_pred.argmax(axis=1))\n",
        "\n",
        "print('Test Accuracy: \\t',acc)"
      ],
      "execution_count": null,
      "outputs": []
    }
  ]
}