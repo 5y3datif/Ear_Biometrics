{
  "nbformat": 4,
  "nbformat_minor": 0,
  "metadata": {
    "accelerator": "GPU",
    "colab": {
      "name": "EarBiometric_DeepLSE.ipynb",
      "provenance": [],
      "collapsed_sections": [],
      "toc_visible": true,
      "include_colab_link": true
    },
    "kernelspec": {
      "display_name": "Python 3",
      "name": "python3"
    }
  },
  "cells": [
    {
      "cell_type": "markdown",
      "metadata": {
        "id": "view-in-github",
        "colab_type": "text"
      },
      "source": [
        "<a href=\"https://colab.research.google.com/github/Shujaat123/Ear_Biometrics/blob/main/EarBiometric_DeepLSE.ipynb\" target=\"_parent\"><img src=\"https://colab.research.google.com/assets/colab-badge.svg\" alt=\"Open In Colab\"/></a>"
      ]
    },
    {
      "cell_type": "markdown",
      "metadata": {
        "id": "DeEJa2_TZnec"
      },
      "source": [
        "## **EB-LSE: Ear Biometrics Using Deep Latent Space Encoding**\n"
      ]
    },
    {
      "cell_type": "markdown",
      "metadata": {
        "id": "s-m_byicZkQc"
      },
      "source": [
        "This code provide python implementation of EB-LSE algorithm."
      ]
    },
    {
      "cell_type": "markdown",
      "metadata": {
        "id": "LadaflfshqgF"
      },
      "source": [
        "# Loading Useful packages"
      ]
    },
    {
      "cell_type": "code",
      "metadata": {
        "colab": {
          "base_uri": "https://localhost:8080/"
        },
        "id": "Si6012nzZktl",
        "outputId": "53403507-2d39-47fe-e66d-ffcc38a89b78"
      },
      "source": [
        "## Load useful packages\n",
        "!pip install wget\n",
        "!pip install py7zr\n",
        "\n",
        "import keras\n",
        "import py7zr\n",
        "from zipfile import ZipFile\n",
        "from random import sample\n",
        "\n",
        "import PIL.Image as Image\n",
        "\n",
        "import matplotlib.pyplot as plt\n",
        "from  sklearn.model_selection import train_test_split\n",
        "from os import listdir\n",
        "from os import path\n",
        "import h5py\n",
        "import keras.backend as K\n",
        "import numpy as np\n",
        "import tensorflow as tf\n",
        "import wget\n",
        "from keras import regularizers\n",
        "from keras.callbacks import EarlyStopping\n",
        "from keras.callbacks import ModelCheckpoint\n",
        "from keras.layers import *\n",
        "from keras.models import Model\n",
        "from keras.models import load_model\n",
        "from keras.utils.np_utils import to_categorical\n",
        "from sklearn.metrics import accuracy_score, balanced_accuracy_score\n",
        "from sklearn.metrics import confusion_matrix"
      ],
      "execution_count": 55,
      "outputs": [
        {
          "output_type": "stream",
          "text": [
            "Requirement already satisfied: wget in /usr/local/lib/python3.7/dist-packages (3.2)\n",
            "Requirement already satisfied: py7zr in /usr/local/lib/python3.7/dist-packages (0.14.0)\n",
            "Requirement already satisfied: bcj-cffi<0.6.0,>=0.5.0 in /usr/local/lib/python3.7/dist-packages (from py7zr) (0.5.0)\n",
            "Requirement already satisfied: ppmd-cffi<0.4.0,>=0.3.1 in /usr/local/lib/python3.7/dist-packages (from py7zr) (0.3.3)\n",
            "Requirement already satisfied: multivolumefile<0.3.0,>=0.2.0 in /usr/local/lib/python3.7/dist-packages (from py7zr) (0.2.1)\n",
            "Requirement already satisfied: pycryptodome in /usr/local/lib/python3.7/dist-packages (from py7zr) (3.10.1)\n",
            "Requirement already satisfied: texttable in /usr/local/lib/python3.7/dist-packages (from py7zr) (1.6.3)\n",
            "Requirement already satisfied: pyzstd<0.15.0,>=0.14.1; platform_python_implementation == \"CPython\" in /usr/local/lib/python3.7/dist-packages (from py7zr) (0.14.2)\n",
            "Requirement already satisfied: importlib-metadata; python_version < \"3.8\" in /usr/local/lib/python3.7/dist-packages (from py7zr) (3.7.0)\n",
            "Requirement already satisfied: cffi>=1.14.0 in /usr/local/lib/python3.7/dist-packages (from bcj-cffi<0.6.0,>=0.5.0->py7zr) (1.14.5)\n",
            "Requirement already satisfied: zipp>=0.5 in /usr/local/lib/python3.7/dist-packages (from importlib-metadata; python_version < \"3.8\"->py7zr) (3.4.0)\n",
            "Requirement already satisfied: typing-extensions>=3.6.4; python_version < \"3.8\" in /usr/local/lib/python3.7/dist-packages (from importlib-metadata; python_version < \"3.8\"->py7zr) (3.7.4.3)\n",
            "Requirement already satisfied: pycparser in /usr/local/lib/python3.7/dist-packages (from cffi>=1.14.0->bcj-cffi<0.6.0,>=0.5.0->py7zr) (2.20)\n"
          ],
          "name": "stdout"
        }
      ]
    },
    {
      "cell_type": "code",
      "metadata": {
        "id": "Qtx-_CFPm6Kf"
      },
      "source": [
        ""
      ],
      "execution_count": 55,
      "outputs": []
    },
    {
      "cell_type": "markdown",
      "metadata": {
        "id": "bgIp3d0U-RHC"
      },
      "source": [
        "# Pre-processing wheather-classification dataset"
      ]
    },
    {
      "cell_type": "markdown",
      "metadata": {
        "id": "bB-LjEPU97rw"
      },
      "source": [
        "**Loading and processing dataset**"
      ]
    },
    {
      "cell_type": "code",
      "metadata": {
        "id": "NK4g9LZ0L9Qb"
      },
      "source": [
        "# data_path = 'https://github.com/Shujaat123/Ear_Biometrics/blob/main/datasets/AMI_dataset.zip?raw=true'\n",
        "# filename = 'AMI_dataset.zip'\n",
        "# if(path.exists(filename)):\n",
        "#   !rm $filename\n",
        "#   print('existing file:', filename, ' has been deleted')\n",
        "# print('downloading latest version of file:', filename)\n",
        "# wget.download(data_path, filename)\n",
        "# print('DONE')\n",
        "\n",
        "# with ZipFile(filename, 'r') as zipObj:\n",
        "#    # Extract all the contents of zip file in current directory\n",
        "#    zipObj.extractall()\n",
        "# !ls"
      ],
      "execution_count": 56,
      "outputs": []
    },
    {
      "cell_type": "code",
      "metadata": {
        "id": "6tv0yxR-y5w-"
      },
      "source": [
        "# # Processing AMI_dataset\n",
        "# src_dir = 'AMI_dataset'\n",
        "# images_name = listdir(src_dir)\n",
        "# subjects = []\n",
        "# for img_ind in range(0,len(images_name)):\n",
        "#     subjects.append(int(images_name[img_ind].split('_')[0]))\n",
        "\n",
        "# images_name_ord = []\n",
        "# subjects_ord = []\n",
        "# sub_ind = sorted(range(len(subjects)),key=subjects.__getitem__)\n",
        "# for pos, item in enumerate(sub_ind):\n",
        "#   images_name_ord.append(images_name[item])\n",
        "#   subjects_ord.append(subjects[item])\n",
        "# images_name = images_name_ord\n",
        "# subjects = subjects_ord\n",
        "\n",
        "# print(subjects)\n",
        "# print(images_name)\n",
        "\n",
        "# sub_unique = np.unique(subjects)\n",
        "# img_ind = 0\n",
        "# ear_images = []\n",
        "# sub_labels = [];\n",
        "# target_size = (123, 176)\n",
        "\n",
        "# for sub_ind in range(0,len(sub_unique)):\n",
        "#   for sample_ind in range(0,int(len(subjects)/len(sub_unique))):\n",
        "#     img_path = src_dir+'/'+images_name[img_ind]\n",
        "#     ear_img = (plt.imread(img_path))/255\n",
        "    \n",
        "#     ear_img = Image.open(img_path)\n",
        "#     ear_img = ear_img.resize(target_size, Image.ANTIALIAS)\n",
        "#     ear_img = np.asarray(ear_img).astype(np.float32)/255\n",
        "\n",
        "#     ear_images.append(ear_img)\n",
        "#     sub_labels.append(sub_ind)\n",
        "#     img_ind = img_ind + 1\n",
        "\n",
        "# ear_images = np.array(ear_images)\n",
        "# sub_labels = to_categorical(np.array(sub_labels))\n",
        "\n",
        "# print(ear_images.shape)\n",
        "# print(sub_labels.shape)\n"
      ],
      "execution_count": 57,
      "outputs": []
    },
    {
      "cell_type": "code",
      "metadata": {
        "colab": {
          "base_uri": "https://localhost:8080/"
        },
        "id": "YTyRPXTnejyl",
        "outputId": "5887d297-5e7a-4486-85cc-f78e69898895"
      },
      "source": [
        "data_path = 'https://github.com/Shujaat123/Ear_Biometrics/blob/main/datasets/IITD_Dataset.7z?raw=true'\n",
        "filename = 'IITD_Dataset.7z'\n",
        "if(path.exists(filename)):\n",
        "  !rm $filename\n",
        "  print('existing file:', filename, ' has been deleted')\n",
        "print('downloading latest version of file:', filename)\n",
        "wget.download(data_path, filename)\n",
        "print('DONE')\n",
        "\n",
        "with py7zr.SevenZipFile('IITD_Dataset.7z', mode='r') as z:\n",
        "    z.extractall()\n",
        "!ls"
      ],
      "execution_count": 58,
      "outputs": [
        {
          "output_type": "stream",
          "text": [
            "existing file: IITD_Dataset.7z  has been deleted\n",
            "downloading latest version of file: IITD_Dataset.7z\n",
            "DONE\n",
            " ear   IITD_Dataset.7z\t'models\\model-best.h5'\t sample_data\n"
          ],
          "name": "stdout"
        }
      ]
    },
    {
      "cell_type": "code",
      "metadata": {
        "colab": {
          "base_uri": "https://localhost:8080/"
        },
        "id": "n81UNP2Aeyk7",
        "outputId": "86e60b58-ef26-4679-d51d-eff24f4dc24b"
      },
      "source": [
        "# Processing IITD_dataset\n",
        "src_dir = 'ear/processed/221'\n",
        "images_name = listdir(src_dir)\n",
        "images_name_temp = []\n",
        "subjects = []\n",
        "for img_ind in range(0,len(images_name)):\n",
        "  if(not(images_name[img_ind]=='Thumbs.db')):\n",
        "    subjects.append(int(images_name[img_ind].split('_')[0]))\n",
        "    images_name_temp.append(images_name[img_ind])\n",
        "\n",
        "images_name = images_name_temp\n",
        "images_name_ord = []\n",
        "subjects_ord = []\n",
        "\n",
        "sub_ind = sorted(range(len(subjects)),key=subjects.__getitem__)\n",
        "for pos, item in enumerate(sub_ind):\n",
        "  images_name_ord.append(images_name[item])\n",
        "  subjects_ord.append(subjects[item])\n",
        "\n",
        "images_name = images_name_ord\n",
        "subjects = subjects_ord\n",
        "\n",
        "print(subjects)\n",
        "print(images_name)\n",
        "\n",
        "img_ind = 0\n",
        "ear_images = []\n",
        "sub_labels = [];\n",
        "target_size = (180, 180)\n",
        "\n",
        "for sub_ind in range(0,len(subjects)):\n",
        "  img_path = src_dir+'/'+images_name[sub_ind]\n",
        "  ear_img = (plt.imread(img_path))/255\n",
        "  \n",
        "  ear_img = Image.open(img_path)\n",
        "  ear_img = ear_img.resize(target_size, Image.ANTIALIAS)\n",
        "  ear_img = np.asarray(ear_img).astype(np.float32)/255\n",
        "\n",
        "  ear_images.append(ear_img)\n",
        "  sub_labels.append(subjects[sub_ind]-1)\n",
        "\n",
        "ear_images = np.array(ear_images)\n",
        "sub_labels = to_categorical(np.array(sub_labels))\n",
        "\n",
        "ear_images = np.expand_dims(ear_images, axis=3)\n",
        "# sub_labels = np.expand_dims(sub_labels, axis=2)\n",
        "\n",
        "ear_images = np.concatenate((ear_images,ear_images,ear_images), axis=3)\n",
        "\n",
        "print(ear_images.shape)\n",
        "print(sub_labels.shape)\n"
      ],
      "execution_count": 59,
      "outputs": [
        {
          "output_type": "stream",
          "text": [
            "[1, 1, 1, 1, 1, 1, 2, 2, 2, 3, 3, 3, 3, 3, 4, 4, 4, 4, 4, 4, 5, 5, 5, 5, 6, 6, 6, 7, 7, 7, 7, 8, 8, 8, 9, 9, 9, 10, 10, 10, 11, 11, 11, 12, 12, 12, 13, 13, 13, 13, 13, 13, 14, 14, 14, 15, 15, 15, 16, 16, 16, 16, 17, 17, 17, 18, 18, 18, 19, 19, 19, 19, 20, 20, 20, 21, 21, 21, 22, 22, 22, 23, 23, 23, 23, 24, 24, 24, 24, 25, 25, 25, 25, 26, 26, 26, 27, 27, 27, 27, 27, 28, 28, 28, 29, 29, 29, 29, 30, 30, 30, 30, 31, 31, 31, 32, 32, 32, 32, 33, 33, 33, 34, 34, 34, 35, 35, 35, 35, 36, 36, 36, 37, 37, 37, 37, 38, 38, 38, 39, 39, 39, 40, 40, 40, 41, 41, 41, 41, 42, 42, 42, 42, 43, 43, 43, 43, 43, 44, 44, 44, 45, 45, 45, 46, 46, 46, 46, 47, 47, 47, 48, 48, 48, 49, 49, 49, 49, 49, 50, 50, 50, 50, 50, 51, 51, 51, 52, 52, 52, 52, 53, 53, 53, 54, 54, 54, 54, 54, 55, 55, 55, 55, 55, 56, 56, 56, 56, 57, 57, 57, 57, 58, 58, 58, 58, 58, 59, 59, 59, 59, 59, 60, 60, 60, 61, 61, 61, 62, 62, 62, 63, 63, 63, 63, 63, 63, 64, 64, 64, 64, 64, 64, 65, 65, 65, 66, 66, 66, 66, 67, 67, 67, 68, 68, 68, 68, 69, 69, 69, 69, 69, 70, 70, 70, 70, 71, 71, 71, 72, 72, 72, 73, 73, 73, 74, 74, 74, 75, 75, 75, 76, 76, 76, 76, 76, 76, 77, 77, 77, 78, 78, 78, 79, 79, 79, 80, 80, 80, 80, 80, 81, 81, 81, 81, 82, 82, 82, 82, 83, 83, 83, 83, 84, 84, 84, 85, 85, 85, 85, 85, 85, 86, 86, 86, 86, 86, 87, 87, 87, 87, 88, 88, 88, 88, 88, 89, 89, 89, 89, 90, 90, 90, 90, 91, 91, 91, 91, 91, 91, 92, 92, 92, 93, 93, 93, 93, 93, 93, 94, 94, 94, 94, 95, 95, 95, 95, 96, 96, 96, 96, 96, 96, 97, 97, 97, 98, 98, 98, 98, 99, 99, 99, 99, 99, 99, 100, 100, 100, 101, 101, 101, 101, 101, 101, 102, 102, 102, 102, 102, 103, 103, 103, 103, 104, 104, 104, 104, 105, 105, 105, 106, 106, 106, 107, 107, 107, 107, 108, 108, 108, 108, 109, 109, 109, 110, 110, 110, 111, 111, 111, 112, 112, 112, 112, 113, 113, 113, 114, 114, 114, 114, 114, 115, 115, 115, 115, 116, 116, 116, 116, 116, 117, 117, 117, 117, 118, 118, 118, 119, 119, 119, 119, 120, 120, 120, 120, 121, 121, 121, 122, 122, 122, 123, 123, 123, 124, 124, 124, 125, 125, 125, 126, 126, 126, 127, 127, 127, 128, 128, 128, 129, 129, 129, 130, 130, 130, 131, 131, 131, 131, 132, 132, 132, 133, 133, 133, 134, 134, 134, 135, 135, 135, 136, 136, 136, 137, 137, 137, 138, 138, 138, 139, 139, 139, 140, 140, 140, 141, 141, 141, 141, 142, 142, 142, 143, 143, 143, 144, 144, 144, 145, 145, 145, 146, 146, 146, 147, 147, 147, 148, 148, 148, 149, 149, 149, 150, 150, 150, 151, 151, 151, 152, 152, 152, 153, 153, 153, 154, 154, 154, 155, 155, 155, 156, 156, 156, 157, 157, 157, 158, 158, 158, 159, 159, 159, 160, 160, 160, 161, 161, 161, 162, 162, 162, 163, 163, 163, 164, 164, 164, 165, 165, 165, 166, 166, 166, 167, 167, 167, 168, 168, 168, 169, 169, 169, 170, 170, 170, 171, 171, 171, 172, 172, 172, 173, 173, 173, 174, 174, 174, 175, 175, 175, 176, 176, 176, 177, 177, 177, 178, 178, 178, 179, 179, 179, 180, 180, 180, 180, 181, 181, 181, 181, 182, 182, 182, 183, 183, 183, 184, 184, 184, 185, 185, 185, 186, 186, 186, 187, 187, 187, 188, 188, 188, 189, 189, 189, 189, 190, 190, 190, 191, 191, 191, 191, 192, 192, 192, 193, 193, 193, 194, 194, 194, 195, 195, 195, 196, 196, 196, 196, 197, 197, 197, 198, 198, 198, 199, 199, 199, 200, 200, 200, 201, 201, 201, 202, 202, 202, 203, 203, 203, 203, 204, 204, 204, 205, 205, 205, 206, 206, 206, 207, 207, 207, 208, 208, 208, 209, 209, 209, 210, 210, 210, 211, 211, 211, 212, 212, 212, 212, 212, 213, 213, 213, 213, 213, 213, 214, 214, 214, 214, 214, 214, 215, 215, 215, 215, 216, 216, 216, 216, 217, 217, 217, 218, 218, 218, 218, 218, 218, 219, 219, 219, 219, 219, 220, 220, 220, 221, 221, 221]\n",
            "['001_6.bmp', '001_1.bmp', '001_3.bmp', '001_2.bmp', '001_4.bmp', '001_5.bmp', '002_1.bmp', '002_2.bmp', '002_3.bmp', '003_2.bmp', '003_5.bmp', '003_4.bmp', '003_1.bmp', '003_3.bmp', '004_2.bmp', '004_6.bmp', '004_5.bmp', '004_1.bmp', '004_3.bmp', '004_4.bmp', '005_1.bmp', '005_3.bmp', '005_4.bmp', '005_2.bmp', '006_3.bmp', '006_2.bmp', '006_1.bmp', '007_3.bmp', '007_4.bmp', '007_2.bmp', '007_1.bmp', '008_1.bmp', '008_3.bmp', '008_2.bmp', '009_2.bmp', '009_1.bmp', '009_3.bmp', '010_3.bmp', '010_1.bmp', '010_2.bmp', '011_1.bmp', '011_3.bmp', '011_2.bmp', '012_1.bmp', '012_2.bmp', '012_3.bmp', '013_4.bmp', '013_3.bmp', '013_5.bmp', '013_1.bmp', '013_6.bmp', '013_2.bmp', '014_2.bmp', '014_1.bmp', '014_3.bmp', '015_2.bmp', '015_3.bmp', '015_1.bmp', '016_2.bmp', '016_1.bmp', '016_4.bmp', '016_3.bmp', '017_1.bmp', '017_2.bmp', '017_3.bmp', '018_2.bmp', '018_1.bmp', '018_3.bmp', '019_1.bmp', '019_4.bmp', '019_3.bmp', '019_2.bmp', '020_2.bmp', '020_3.bmp', '020_1.bmp', '021_3.bmp', '021_1.bmp', '021_2.bmp', '022_1.bmp', '022_3.bmp', '022_2.bmp', '023_4.bmp', '023_3.bmp', '023_1.bmp', '023_2.bmp', '024_3.bmp', '024_4.bmp', '024_1.bmp', '024_2.bmp', '025_4.bmp', '025_1.bmp', '025_3.bmp', '025_2.bmp', '026_2.bmp', '026_1.bmp', '026_3.bmp', '027_4.bmp', '027_1.bmp', '027_3.bmp', '027_2.bmp', '027_5.bmp', '028_2.bmp', '028_3.bmp', '028_1.bmp', '029_1.bmp', '029_2.bmp', '029_4.bmp', '029_3.bmp', '030_2.bmp', '030_4.bmp', '030_1.bmp', '030_3.bmp', '031_2.bmp', '031_3.bmp', '031_1.bmp', '032_3.bmp', '032_4.bmp', '032_2.bmp', '032_1.bmp', '033_3.bmp', '033_1.bmp', '033_2.bmp', '034_2.bmp', '034_1.bmp', '034_3.bmp', '035_3.bmp', '035_1.bmp', '035_4.bmp', '035_2.bmp', '036_1.bmp', '036_2.bmp', '036_3.bmp', '037_2.bmp', '037_1.bmp', '037_4.bmp', '037_3.bmp', '038_1.bmp', '038_2.bmp', '038_3.bmp', '039_1.bmp', '039_3.bmp', '039_2.bmp', '040_3.bmp', '040_2.bmp', '040_1.bmp', '041_3.bmp', '041_1.bmp', '041_4.bmp', '041_2.bmp', '042_1.bmp', '042_3.bmp', '042_2.bmp', '042_4.bmp', '043_4.bmp', '043_2.bmp', '043_3.bmp', '043_5.bmp', '043_1.bmp', '044_3.bmp', '044_2.bmp', '044_1.bmp', '045_3.bmp', '045_1.bmp', '045_2.bmp', '046_3.bmp', '046_4.bmp', '046_2.bmp', '046_1.bmp', '047_3.bmp', '047_1.bmp', '047_2.bmp', '048_1.bmp', '048_2.bmp', '048_3.bmp', '049_3.bmp', '049_5.bmp', '049_1.bmp', '049_2.bmp', '049_4.bmp', '050_1.bmp', '050_3.bmp', '050_4.bmp', '050_5.bmp', '050_2.bmp', '051_2.bmp', '051_3.bmp', '051_1.bmp', '052_1.bmp', '052_2.bmp', '052_4.bmp', '052_3.bmp', '053_2.bmp', '053_3.bmp', '053_1.bmp', '054_4.bmp', '054_1.bmp', '054_5.bmp', '054_2.bmp', '054_3.bmp', '055_2.bmp', '055_1.bmp', '055_4.bmp', '055_3.bmp', '055_5.bmp', '056_1.bmp', '056_3.bmp', '056_4.bmp', '056_2.bmp', '057_2.bmp', '057_4.bmp', '057_3.bmp', '057_1.bmp', '058_5.bmp', '058_2.bmp', '058_4.bmp', '058_3.bmp', '058_1.bmp', '059_5.bmp', '059_4.bmp', '059_3.bmp', '059_2.bmp', '059_1.bmp', '060_2.bmp', '060_3.bmp', '060_1.bmp', '061_3.bmp', '061_1.bmp', '061_2.bmp', '062_2.bmp', '062_1.bmp', '062_3.bmp', '063_1.bmp', '063_5.bmp', '063_3.bmp', '063_6.bmp', '063_2.bmp', '063_4.bmp', '064_1.bmp', '064_4.bmp', '064_3.bmp', '064_5.bmp', '064_2.bmp', '064_6.bmp', '065_1.bmp', '065_2.bmp', '065_3.bmp', '066_2.bmp', '066_1.bmp', '066_4.bmp', '066_3.bmp', '067_3.bmp', '067_2.bmp', '067_1.bmp', '068_2.bmp', '068_1.bmp', '068_3.bmp', '068_4.bmp', '069_2.bmp', '069_4.bmp', '069_3.bmp', '069_5.bmp', '069_1.bmp', '070_1.bmp', '070_3.bmp', '070_4.bmp', '070_2.bmp', '071_3.bmp', '071_1.bmp', '071_2.bmp', '072_1.bmp', '072_2.bmp', '072_3.bmp', '073_1.bmp', '073_2.bmp', '073_3.bmp', '074_1.bmp', '074_2.bmp', '074_3.bmp', '075_1.bmp', '075_2.bmp', '075_3.bmp', '076_3.bmp', '076_6.bmp', '076_2.bmp', '076_1.bmp', '076_4.bmp', '076_5.bmp', '077_3.bmp', '077_2.bmp', '077_1.bmp', '078_3.bmp', '078_2.bmp', '078_1.bmp', '079_1.bmp', '079_3.bmp', '079_2.bmp', '080_4.bmp', '080_2.bmp', '080_1.bmp', '080_3.bmp', '080_5.bmp', '081_2.bmp', '081_1.bmp', '081_3.bmp', '081_4.bmp', '082_3.bmp', '082_4.bmp', '082_1.bmp', '082_2.bmp', '083_3.bmp', '083_4.bmp', '083_2.bmp', '083_1.bmp', '084_1.bmp', '084_2.bmp', '084_3.bmp', '085_5.bmp', '085_3.bmp', '085_4.bmp', '085_6.bmp', '085_2.bmp', '085_1.bmp', '086_5.bmp', '086_2.bmp', '086_4.bmp', '086_3.bmp', '086_1.bmp', '087_1.bmp', '087_3.bmp', '087_4.bmp', '087_2.bmp', '088_5.bmp', '088_1.bmp', '088_4.bmp', '088_3.bmp', '088_2.bmp', '089_2.bmp', '089_4.bmp', '089_3.bmp', '089_1.bmp', '090_2.bmp', '090_4.bmp', '090_3.bmp', '090_1.bmp', '091_4.bmp', '091_1.bmp', '091_3.bmp', '091_5.bmp', '091_6.bmp', '091_2.bmp', '092_1.bmp', '092_3.bmp', '092_2.bmp', '093_2.bmp', '093_5.bmp', '093_1.bmp', '093_4.bmp', '093_6.bmp', '093_3.bmp', '094_3.bmp', '094_2.bmp', '094_4.bmp', '094_1.bmp', '095_4.bmp', '095_3.bmp', '095_1.bmp', '095_2.bmp', '096_2.bmp', '096_5.bmp', '096_6.bmp', '096_4.bmp', '096_3.bmp', '096_1.bmp', '097_1.bmp', '097_3.bmp', '097_2.bmp', '098_4.bmp', '098_3.bmp', '098_1.bmp', '098_2.bmp', '099_6.bmp', '099_5.bmp', '099_1.bmp', '099_3.bmp', '099_2.bmp', '099_4.bmp', '100_3.bmp', '100_2.bmp', '100_1.bmp', '101_2.bmp', '101_1.bmp', '101_3.bmp', '101_4.bmp', '101_6.bmp', '101_5.bmp', '102_5.bmp', '102_3.bmp', '102_2.bmp', '102_1.bmp', '102_4.bmp', '103_3.bmp', '103_2.bmp', '103_4.bmp', '103_1.bmp', '104_2.bmp', '104_1.bmp', '104_4.bmp', '104_3.bmp', '105_2.bmp', '105_1.bmp', '105_3.bmp', '106_3.bmp', '106_2.bmp', '106_1.bmp', '107_3.bmp', '107_4.bmp', '107_2.bmp', '107_1.bmp', '108_2.bmp', '108_1.bmp', '108_3.bmp', '108_4.bmp', '109_1.bmp', '109_3.bmp', '109_2.bmp', '110_3.bmp', '110_2.bmp', '110_1.bmp', '111_1.bmp', '111_3.bmp', '111_2.bmp', '112_3.bmp', '112_1.bmp', '112_2.bmp', '112_4.bmp', '113_2.bmp', '113_3.bmp', '113_1.bmp', '114_3.bmp', '114_5.bmp', '114_4.bmp', '114_1.bmp', '114_2.bmp', '115_2.bmp', '115_4.bmp', '115_3.bmp', '115_1.bmp', '116_2.bmp', '116_5.bmp', '116_1.bmp', '116_3.bmp', '116_4.bmp', '117_4.bmp', '117_1.bmp', '117_2.bmp', '117_3.bmp', '118_2.bmp', '118_1.bmp', '118_3.bmp', '119_4.bmp', '119_3.bmp', '119_2.bmp', '119_1.bmp', '120_1.bmp', '120_3.bmp', '120_2.bmp', '120_4.bmp', '121_3.bmp', '121_2.bmp', '121_1.bmp', '122_2.bmp', '122_1.bmp', '122_3.bmp', '123_2.bmp', '123_1.bmp', '123_3.bmp', '124_1.bmp', '124_3.bmp', '124_2.bmp', '125_3.bmp', '125_2.bmp', '125_1.bmp', '126_2.bmp', '126_3.bmp', '126_1.bmp', '127_3.bmp', '127_2.bmp', '127_1.bmp', '128_3.bmp', '128_2.bmp', '128_1.bmp', '129_3.bmp', '129_1.bmp', '129_2.bmp', '130_1.bmp', '130_3.bmp', '130_2.bmp', '131_4.bmp', '131_2.bmp', '131_3.bmp', '131_1.bmp', '132_2.bmp', '132_3.bmp', '132_1.bmp', '133_2.bmp', '133_3.bmp', '133_1.bmp', '134_1.bmp', '134_3.bmp', '134_2.bmp', '135_2.bmp', '135_1.bmp', '135_3.bmp', '136_2.bmp', '136_1.bmp', '136_3.bmp', '137_2.bmp', '137_1.bmp', '137_3.bmp', '138_2.bmp', '138_3.bmp', '138_1.bmp', '139_3.bmp', '139_2.bmp', '139_1.bmp', '140_2.bmp', '140_3.bmp', '140_1.bmp', '141_4.bmp', '141_1.bmp', '141_3.bmp', '141_2.bmp', '142_2.bmp', '142_3.bmp', '142_1.bmp', '143_2.bmp', '143_1.bmp', '143_3.bmp', '144_3.bmp', '144_2.bmp', '144_1.bmp', '145_2.bmp', '145_3.bmp', '145_1.bmp', '146_3.bmp', '146_1.bmp', '146_2.bmp', '147_2.bmp', '147_1.bmp', '147_3.bmp', '148_2.bmp', '148_3.bmp', '148_1.bmp', '149_3.bmp', '149_2.bmp', '149_1.bmp', '150_1.bmp', '150_3.bmp', '150_2.bmp', '151_2.bmp', '151_3.bmp', '151_1.bmp', '152_3.bmp', '152_2.bmp', '152_1.bmp', '153_1.bmp', '153_3.bmp', '153_2.bmp', '154_2.bmp', '154_1.bmp', '154_3.bmp', '155_1.bmp', '155_2.bmp', '155_3.bmp', '156_1.bmp', '156_3.bmp', '156_2.bmp', '157_3.bmp', '157_1.bmp', '157_2.bmp', '158_2.bmp', '158_3.bmp', '158_1.bmp', '159_1.bmp', '159_3.bmp', '159_2.bmp', '160_3.bmp', '160_2.bmp', '160_1.bmp', '161_2.bmp', '161_1.bmp', '161_3.bmp', '162_3.bmp', '162_1.bmp', '162_2.bmp', '163_3.bmp', '163_1.bmp', '163_2.bmp', '164_2.bmp', '164_3.bmp', '164_1.bmp', '165_1.bmp', '165_2.bmp', '165_3.bmp', '166_1.bmp', '166_2.bmp', '166_3.bmp', '167_3.bmp', '167_1.bmp', '167_2.bmp', '168_2.bmp', '168_1.bmp', '168_3.bmp', '169_3.bmp', '169_2.bmp', '169_1.bmp', '170_3.bmp', '170_2.bmp', '170_1.bmp', '171_1.bmp', '171_3.bmp', '171_2.bmp', '172_3.bmp', '172_2.bmp', '172_1.bmp', '173_1.bmp', '173_3.bmp', '173_2.bmp', '174_1.bmp', '174_3.bmp', '174_2.bmp', '175_1.bmp', '175_2.bmp', '175_3.bmp', '176_2.bmp', '176_1.bmp', '176_3.bmp', '177_1.bmp', '177_2.bmp', '177_3.bmp', '178_1.bmp', '178_2.bmp', '178_3.bmp', '179_3.bmp', '179_2.bmp', '179_1.bmp', '180_2.bmp', '180_4.bmp', '180_3.bmp', '180_1.bmp', '181_4.bmp', '181_1.bmp', '181_3.bmp', '181_2.bmp', '182_1.bmp', '182_3.bmp', '182_2.bmp', '183_1.bmp', '183_3.bmp', '183_2.bmp', '184_2.bmp', '184_3.bmp', '184_1.bmp', '185_2.bmp', '185_3.bmp', '185_1.bmp', '186_3.bmp', '186_1.bmp', '186_2.bmp', '187_2.bmp', '187_1.bmp', '187_3.bmp', '188_3.bmp', '188_2.bmp', '188_1.bmp', '189_1.bmp', '189_4.bmp', '189_2.bmp', '189_3.bmp', '190_1.bmp', '190_2.bmp', '190_3.bmp', '191_3.bmp', '191_1.bmp', '191_4.bmp', '191_2.bmp', '192_1.bmp', '192_3.bmp', '192_2.bmp', '193_2.bmp', '193_3.bmp', '193_1.bmp', '194_3.bmp', '194_1.bmp', '194_2.bmp', '195_1.bmp', '195_3.bmp', '195_2.bmp', '196_4.bmp', '196_3.bmp', '196_1.bmp', '196_2.bmp', '197_1.bmp', '197_2.bmp', '197_3.bmp', '198_1.bmp', '198_2.bmp', '198_3.bmp', '199_2.bmp', '199_1.bmp', '199_3.bmp', '200_3.bmp', '200_1.bmp', '200_2.bmp', '201_2.bmp', '201_3.bmp', '201_1.bmp', '202_1.bmp', '202_2.bmp', '202_3.bmp', '203_1.bmp', '203_2.bmp', '203_3.bmp', '203_4.bmp', '204_3.bmp', '204_1.bmp', '204_2.bmp', '205_3.bmp', '205_1.bmp', '205_2.bmp', '206_2.bmp', '206_3.bmp', '206_1.bmp', '207_2.bmp', '207_3.bmp', '207_1.bmp', '208_3.bmp', '208_1.bmp', '208_2.bmp', '209_1.bmp', '209_3.bmp', '209_2.bmp', '210_1.bmp', '210_3.bmp', '210_2.bmp', '211_3.bmp', '211_1.bmp', '211_2.bmp', '212_5.bmp', '212_1.bmp', '212_4.bmp', '212_3.bmp', '212_2.bmp', '213_5.bmp', '213_1.bmp', '213_2.bmp', '213_3.bmp', '213_6.bmp', '213_4.bmp', '214_4.bmp', '214_3.bmp', '214_1.bmp', '214_2.bmp', '214_5.bmp', '214_6.bmp', '215_3.bmp', '215_1.bmp', '215_2.bmp', '215_4.bmp', '216_1.bmp', '216_2.bmp', '216_4.bmp', '216_3.bmp', '217_1.bmp', '217_2.bmp', '217_3.bmp', '218_1.bmp', '218_3.bmp', '218_6.bmp', '218_2.bmp', '218_5.bmp', '218_4.bmp', '219_3.bmp', '219_2.bmp', '219_4.bmp', '219_1.bmp', '219_5.bmp', '220_2.bmp', '220_3.bmp', '220_1.bmp', '221_3.bmp', '221_2.bmp', '221_1.bmp']\n",
            "(793, 180, 180, 3)\n",
            "(793, 221)\n"
          ],
          "name": "stdout"
        }
      ]
    },
    {
      "cell_type": "code",
      "metadata": {
        "id": "ipSFi-Pahul6"
      },
      "source": [
        "# ear_images = np.concatenate((ear_images,ear_images,ear_images), axis=3)\n",
        "# print(ear_images.shape)"
      ],
      "execution_count": 60,
      "outputs": []
    },
    {
      "cell_type": "markdown",
      "metadata": {
        "id": "Dx2y2kYA-IXu"
      },
      "source": [
        "**Generate Training, Validation and Test datasets**"
      ]
    },
    {
      "cell_type": "code",
      "metadata": {
        "colab": {
          "base_uri": "https://localhost:8080/"
        },
        "id": "SNIbsrCL2qZl",
        "outputId": "12c2955e-3ca7-4885-9a98-ddf1ce0b418a"
      },
      "source": [
        "X_train, X_test, y_train, y_test = train_test_split(ear_images, sub_labels, test_size=0.142857142857, random_state=42)\n",
        "print(X_train.shape)\n",
        "print(y_train.shape)\n",
        "print(X_test.shape)\n",
        "print(y_test.shape)\n",
        "\n",
        "ear_images = None"
      ],
      "execution_count": 61,
      "outputs": [
        {
          "output_type": "stream",
          "text": [
            "(679, 180, 180, 3)\n",
            "(679, 221)\n",
            "(114, 180, 180, 3)\n",
            "(114, 221)\n"
          ],
          "name": "stdout"
        }
      ]
    },
    {
      "cell_type": "markdown",
      "metadata": {
        "id": "VjHSbwtzPdGO"
      },
      "source": [
        "## **From: A deep learning approach for person dentification using ear biometrics**"
      ]
    },
    {
      "cell_type": "code",
      "metadata": {
        "id": "yHyCN7cxPcgi"
      },
      "source": [
        "def BUS_Final_Model(num_filters=8,input_shape=(180, 50, 1)):\n",
        "    # Encoder Network\n",
        "    encoder_input = Input(shape=input_shape, name='encoder_input')\n",
        "    enc_l1 = Conv2D(num_filters, 3, activation='tanh', name='encoder_layer1', padding='same')(encoder_input)\n",
        "    enc_l1 = MaxPooling2D(pool_size=(2, 2))(enc_l1)\n",
        "    enc_l1 = Conv2D(2*num_filters, 3, activation='tanh', name='encoder_layer2', padding='same')(enc_l1)\n",
        "    enc_l1 = BatchNormalization()(enc_l1)\n",
        "    enc_l1 = MaxPooling2D(pool_size=(2, 2))(enc_l1)\n",
        "    # enc_l1 = Dropout(0.3)(enc_l1)\n",
        "    \n",
        "\n",
        "    enc_l2 = Conv2D(4*num_filters, 3, activation='tanh', name='encoder_layer3', padding='same')(enc_l1)\n",
        "    enc_l2 = MaxPooling2D(pool_size=(2, 2))(enc_l2)\n",
        "    enc_l2 = Conv2D(4*num_filters, 3, activation='tanh', name='encoder_layer4', padding='same',\n",
        "                    kernel_regularizer=regularizers.l1_l2(l1=1e-5, l2=1e-4),\n",
        "                    bias_regularizer=regularizers.l2(1e-4),\n",
        "                    activity_regularizer=regularizers.l2(1e-5))(enc_l2)\n",
        "    enc_l2 = MaxPooling2D(pool_size=(2, 2))(enc_l2)\n",
        "    enc_l2 = Dropout(0.1)(enc_l2)\n",
        "    \n",
        "\n",
        "    enc_l3 = Conv2D(8*num_filters, 3, activation='tanh', name='encoder_layer5', padding='same')(enc_l2)\n",
        "    enc_l3 = BatchNormalization()(enc_l3)\n",
        "    enc_l3 = MaxPooling2D(pool_size=(2, 2))(enc_l3)\n",
        "    enc_l3 = Conv2D(16*num_filters, 3, activation='tanh', name='encoder_layer6', padding='same')(enc_l3)\n",
        "    enc_l3 = BatchNormalization()(enc_l3)\n",
        "    # enc_l3 = Dropout(0.3)(enc_l3)\n",
        "\n",
        "    # Classifier Network\n",
        "    # flat = GlobalAveragePooling2D()(enc_l3)\n",
        "    flat = Flatten()(enc_l3)\n",
        "    class_output = Dense(221, activation='softmax', name='class_output')(flat)\n",
        "\n",
        "    model = Model(inputs=[encoder_input], outputs=[class_output])  # class_output, decoder_output,\n",
        "\n",
        "    # Compiling model\n",
        "    model.compile(optimizer=tf.keras.optimizers.Adam(lr=1e-4),#RMSprop(),#learning_rate=0.0001, beta_1=0.9, beta_2=0.999,\n",
        "                                                      #epsilon=1e-07, amsgrad=False),\n",
        "                  loss= {'class_output': keras.losses.BinaryCrossentropy(from_logits=True)}, # ''categorical_crossentropy'}, #loss_DSSIM},\n",
        "                  metrics={'class_output': 'accuracy'})#[DSSIM, DPSNR, 'mae']})\n",
        "    model.summary()\n",
        "    return model"
      ],
      "execution_count": 88,
      "outputs": []
    },
    {
      "cell_type": "code",
      "metadata": {
        "id": "r9E9DVrVfNYL"
      },
      "source": [
        "# def BUS_Final_Model(num_filters=8,input_shape=(180, 50, 1)):\n",
        "#   base_model = keras.applications.Xception(\n",
        "#       weights='imagenet',  # Load weights pre-trained on ImageNet.\n",
        "#       # weights=None,  # Load weights pre-trained on ImageNet.\n",
        "#       input_shape=input_shape,\n",
        "#       include_top=False)  # Do not include the ImageNet classifier at the top.\n",
        "#   base_model.trainable = False\n",
        "#   # base_model.trainable = True\n",
        "#   # Encoder Network\n",
        "#   encoder_input = Input(shape=input_shape, name='encoder_input')\n",
        "#   # We make sure that the base_model is running in inference mode here,\n",
        "#   # by passing `training=False`. This is important for fine-tuning, as you will\n",
        "#   # learn in a few paragraphs.\n",
        "#   x = base_model(encoder_input, training=True)\n",
        "#   # Convert features of shape `base_model.output_shape[1:]` to vectors\n",
        "#   x = keras.layers.GlobalAveragePooling2D()(x)\n",
        "#   # A Dense classifier with a single unit (binary classification)\n",
        "#   class_output = keras.layers.Dense(221, name='class_output')(x)\n",
        "#   model = keras.Model(encoder_input, class_output)\n",
        "\n",
        "#   model.compile(optimizer=keras.optimizers.Adam(lr=0.001),\n",
        "#                 loss=keras.losses.BinaryCrossentropy(from_logits=True),\n",
        "#                 metrics=['accuracy'])\n",
        "#                 # metrics=[keras.metrics.BinaryAccuracy()])\n",
        "#   model.summary()\n",
        "#   return model"
      ],
      "execution_count": 63,
      "outputs": []
    },
    {
      "cell_type": "markdown",
      "metadata": {
        "id": "ar9mtHsEaAyA"
      },
      "source": [
        "# Designing an Auto-Encoder-based classification model"
      ]
    },
    {
      "cell_type": "code",
      "metadata": {
        "colab": {
          "base_uri": "https://localhost:8080/"
        },
        "id": "a8UEHjUVOo9_",
        "outputId": "719fd360-b4dc-4453-f975-ac83c19d3e9b"
      },
      "source": [
        "model = BUS_Final_Model(num_filters=8,input_shape=(X_train.shape[1:]))"
      ],
      "execution_count": 89,
      "outputs": [
        {
          "output_type": "stream",
          "text": [
            "Model: \"model_9\"\n",
            "_________________________________________________________________\n",
            "Layer (type)                 Output Shape              Param #   \n",
            "=================================================================\n",
            "encoder_input (InputLayer)   [(None, 180, 180, 3)]     0         \n",
            "_________________________________________________________________\n",
            "encoder_layer1 (Conv2D)      (None, 180, 180, 8)       224       \n",
            "_________________________________________________________________\n",
            "max_pooling2d_35 (MaxPooling (None, 90, 90, 8)         0         \n",
            "_________________________________________________________________\n",
            "encoder_layer2 (Conv2D)      (None, 90, 90, 16)        1168      \n",
            "_________________________________________________________________\n",
            "batch_normalization_33 (Batc (None, 90, 90, 16)        64        \n",
            "_________________________________________________________________\n",
            "max_pooling2d_36 (MaxPooling (None, 45, 45, 16)        0         \n",
            "_________________________________________________________________\n",
            "encoder_layer3 (Conv2D)      (None, 45, 45, 32)        4640      \n",
            "_________________________________________________________________\n",
            "max_pooling2d_37 (MaxPooling (None, 22, 22, 32)        0         \n",
            "_________________________________________________________________\n",
            "encoder_layer4 (Conv2D)      (None, 22, 22, 32)        9248      \n",
            "_________________________________________________________________\n",
            "max_pooling2d_38 (MaxPooling (None, 11, 11, 32)        0         \n",
            "_________________________________________________________________\n",
            "dropout_16 (Dropout)         (None, 11, 11, 32)        0         \n",
            "_________________________________________________________________\n",
            "encoder_layer5 (Conv2D)      (None, 11, 11, 64)        18496     \n",
            "_________________________________________________________________\n",
            "batch_normalization_34 (Batc (None, 11, 11, 64)        256       \n",
            "_________________________________________________________________\n",
            "max_pooling2d_39 (MaxPooling (None, 5, 5, 64)          0         \n",
            "_________________________________________________________________\n",
            "encoder_layer6 (Conv2D)      (None, 5, 5, 128)         73856     \n",
            "_________________________________________________________________\n",
            "batch_normalization_35 (Batc (None, 5, 5, 128)         512       \n",
            "_________________________________________________________________\n",
            "flatten_5 (Flatten)          (None, 3200)              0         \n",
            "_________________________________________________________________\n",
            "class_output (Dense)         (None, 221)               707421    \n",
            "=================================================================\n",
            "Total params: 815,885\n",
            "Trainable params: 815,469\n",
            "Non-trainable params: 416\n",
            "_________________________________________________________________\n"
          ],
          "name": "stdout"
        }
      ]
    },
    {
      "cell_type": "markdown",
      "metadata": {
        "id": "ctiZpwdn4V4i"
      },
      "source": [
        "# Model Training"
      ]
    },
    {
      "cell_type": "code",
      "metadata": {
        "id": "KSvqpQsOQyb4",
        "colab": {
          "base_uri": "https://localhost:8080/"
        },
        "outputId": "89ca1246-14da-4e1b-9350-e731ef753278"
      },
      "source": [
        "es = EarlyStopping(monitor='val_loss', mode='min', verbose=0, patience=100)\n",
        "checkpoint = ModelCheckpoint('models\\\\model-best.h5', verbose=1, monitor='val_loss',save_best_only=True, mode='auto')\n",
        "  \n",
        "history = model.fit({'encoder_input': X_train}, {'class_output': y_train}, validation_data=({'encoder_input': X_test}, {'class_output': y_test}),\n",
        "                    batch_size=1, epochs=1000, shuffle=True, verbose=2, callbacks=[checkpoint, es])"
      ],
      "execution_count": null,
      "outputs": [
        {
          "output_type": "stream",
          "text": [
            "Epoch 1/1000\n",
            "679/679 - 3s - loss: 0.0622 - accuracy: 0.0309 - val_loss: 0.0768 - val_accuracy: 0.0000e+00\n",
            "\n",
            "Epoch 00001: val_loss improved from inf to 0.07679, saving model to models\\model-best.h5\n",
            "Epoch 2/1000\n",
            "679/679 - 2s - loss: 0.0320 - accuracy: 0.2592 - val_loss: 0.0708 - val_accuracy: 0.1316\n",
            "\n",
            "Epoch 00002: val_loss improved from 0.07679 to 0.07080, saving model to models\\model-best.h5\n",
            "Epoch 3/1000\n",
            "679/679 - 2s - loss: 0.0209 - accuracy: 0.7393 - val_loss: 0.0584 - val_accuracy: 0.3158\n",
            "\n",
            "Epoch 00003: val_loss improved from 0.07080 to 0.05840, saving model to models\\model-best.h5\n",
            "Epoch 4/1000\n",
            "679/679 - 2s - loss: 0.0142 - accuracy: 0.9529 - val_loss: 0.0623 - val_accuracy: 0.3860\n",
            "\n",
            "Epoch 00004: val_loss did not improve from 0.05840\n",
            "Epoch 5/1000\n",
            "679/679 - 2s - loss: 0.0111 - accuracy: 1.0000 - val_loss: 0.0471 - val_accuracy: 0.5263\n",
            "\n",
            "Epoch 00005: val_loss improved from 0.05840 to 0.04714, saving model to models\\model-best.h5\n",
            "Epoch 6/1000\n",
            "679/679 - 2s - loss: 0.0095 - accuracy: 1.0000 - val_loss: 0.0514 - val_accuracy: 0.4649\n",
            "\n",
            "Epoch 00006: val_loss did not improve from 0.04714\n",
            "Epoch 7/1000\n",
            "679/679 - 2s - loss: 0.0083 - accuracy: 1.0000 - val_loss: 0.0387 - val_accuracy: 0.4737\n",
            "\n",
            "Epoch 00007: val_loss improved from 0.04714 to 0.03869, saving model to models\\model-best.h5\n",
            "Epoch 8/1000\n",
            "679/679 - 2s - loss: 0.0075 - accuracy: 1.0000 - val_loss: 0.0380 - val_accuracy: 0.5614\n",
            "\n",
            "Epoch 00008: val_loss improved from 0.03869 to 0.03804, saving model to models\\model-best.h5\n",
            "Epoch 9/1000\n",
            "679/679 - 2s - loss: 0.0070 - accuracy: 0.9971 - val_loss: 0.0343 - val_accuracy: 0.5702\n",
            "\n",
            "Epoch 00009: val_loss improved from 0.03804 to 0.03431, saving model to models\\model-best.h5\n",
            "Epoch 10/1000\n",
            "679/679 - 2s - loss: 0.0061 - accuracy: 1.0000 - val_loss: 0.0306 - val_accuracy: 0.6316\n",
            "\n",
            "Epoch 00010: val_loss improved from 0.03431 to 0.03055, saving model to models\\model-best.h5\n",
            "Epoch 11/1000\n",
            "679/679 - 2s - loss: 0.0055 - accuracy: 1.0000 - val_loss: 0.0277 - val_accuracy: 0.6228\n",
            "\n",
            "Epoch 00011: val_loss improved from 0.03055 to 0.02766, saving model to models\\model-best.h5\n",
            "Epoch 12/1000\n",
            "679/679 - 2s - loss: 0.0055 - accuracy: 0.9971 - val_loss: 0.0242 - val_accuracy: 0.6053\n",
            "\n",
            "Epoch 00012: val_loss improved from 0.02766 to 0.02417, saving model to models\\model-best.h5\n",
            "Epoch 13/1000\n",
            "679/679 - 2s - loss: 0.0047 - accuracy: 1.0000 - val_loss: 0.0360 - val_accuracy: 0.6140\n",
            "\n",
            "Epoch 00013: val_loss did not improve from 0.02417\n",
            "Epoch 14/1000\n",
            "679/679 - 2s - loss: 0.0044 - accuracy: 0.9985 - val_loss: 0.0417 - val_accuracy: 0.5614\n",
            "\n",
            "Epoch 00014: val_loss did not improve from 0.02417\n",
            "Epoch 15/1000\n",
            "679/679 - 2s - loss: 0.0039 - accuracy: 1.0000 - val_loss: 0.0244 - val_accuracy: 0.6754\n",
            "\n",
            "Epoch 00015: val_loss did not improve from 0.02417\n",
            "Epoch 16/1000\n",
            "679/679 - 2s - loss: 0.0035 - accuracy: 1.0000 - val_loss: 0.0370 - val_accuracy: 0.5789\n",
            "\n",
            "Epoch 00016: val_loss did not improve from 0.02417\n",
            "Epoch 17/1000\n",
            "679/679 - 2s - loss: 0.0031 - accuracy: 1.0000 - val_loss: 0.0280 - val_accuracy: 0.6316\n",
            "\n",
            "Epoch 00017: val_loss did not improve from 0.02417\n",
            "Epoch 18/1000\n",
            "679/679 - 2s - loss: 0.0027 - accuracy: 1.0000 - val_loss: 0.0220 - val_accuracy: 0.7281\n",
            "\n",
            "Epoch 00018: val_loss improved from 0.02417 to 0.02196, saving model to models\\model-best.h5\n",
            "Epoch 19/1000\n",
            "679/679 - 2s - loss: 0.0023 - accuracy: 1.0000 - val_loss: 0.0226 - val_accuracy: 0.6842\n",
            "\n",
            "Epoch 00019: val_loss did not improve from 0.02196\n",
            "Epoch 20/1000\n",
            "679/679 - 2s - loss: 0.0018 - accuracy: 1.0000 - val_loss: 0.0251 - val_accuracy: 0.7018\n",
            "\n",
            "Epoch 00020: val_loss did not improve from 0.02196\n",
            "Epoch 21/1000\n",
            "679/679 - 2s - loss: 0.0022 - accuracy: 0.9985 - val_loss: 0.0468 - val_accuracy: 0.5789\n",
            "\n",
            "Epoch 00021: val_loss did not improve from 0.02196\n",
            "Epoch 22/1000\n",
            "679/679 - 2s - loss: 0.0017 - accuracy: 0.9971 - val_loss: 0.0312 - val_accuracy: 0.7281\n",
            "\n",
            "Epoch 00022: val_loss did not improve from 0.02196\n",
            "Epoch 23/1000\n",
            "679/679 - 2s - loss: 0.0015 - accuracy: 1.0000 - val_loss: 0.0257 - val_accuracy: 0.6930\n",
            "\n",
            "Epoch 00023: val_loss did not improve from 0.02196\n",
            "Epoch 24/1000\n",
            "679/679 - 2s - loss: 0.0013 - accuracy: 1.0000 - val_loss: 0.0312 - val_accuracy: 0.6754\n",
            "\n",
            "Epoch 00024: val_loss did not improve from 0.02196\n",
            "Epoch 25/1000\n",
            "679/679 - 2s - loss: 0.0011 - accuracy: 1.0000 - val_loss: 0.0315 - val_accuracy: 0.7018\n",
            "\n",
            "Epoch 00025: val_loss did not improve from 0.02196\n",
            "Epoch 26/1000\n",
            "679/679 - 2s - loss: 9.0339e-04 - accuracy: 1.0000 - val_loss: 0.0289 - val_accuracy: 0.7193\n",
            "\n",
            "Epoch 00026: val_loss did not improve from 0.02196\n",
            "Epoch 27/1000\n",
            "679/679 - 2s - loss: 0.0016 - accuracy: 0.9912 - val_loss: 0.0529 - val_accuracy: 0.6930\n",
            "\n",
            "Epoch 00027: val_loss did not improve from 0.02196\n",
            "Epoch 28/1000\n",
            "679/679 - 2s - loss: 0.0014 - accuracy: 0.9926 - val_loss: 0.0220 - val_accuracy: 0.8158\n",
            "\n",
            "Epoch 00028: val_loss improved from 0.02196 to 0.02196, saving model to models\\model-best.h5\n",
            "Epoch 29/1000\n",
            "679/679 - 2s - loss: 8.6928e-04 - accuracy: 1.0000 - val_loss: 0.0207 - val_accuracy: 0.8158\n",
            "\n",
            "Epoch 00029: val_loss improved from 0.02196 to 0.02072, saving model to models\\model-best.h5\n",
            "Epoch 30/1000\n",
            "679/679 - 2s - loss: 7.4844e-04 - accuracy: 1.0000 - val_loss: 0.0236 - val_accuracy: 0.7982\n",
            "\n",
            "Epoch 00030: val_loss did not improve from 0.02072\n",
            "Epoch 31/1000\n",
            "679/679 - 2s - loss: 6.2771e-04 - accuracy: 1.0000 - val_loss: 0.0219 - val_accuracy: 0.7982\n",
            "\n",
            "Epoch 00031: val_loss did not improve from 0.02072\n",
            "Epoch 32/1000\n",
            "679/679 - 2s - loss: 5.0922e-04 - accuracy: 1.0000 - val_loss: 0.0195 - val_accuracy: 0.7895\n",
            "\n",
            "Epoch 00032: val_loss improved from 0.02072 to 0.01949, saving model to models\\model-best.h5\n",
            "Epoch 33/1000\n",
            "679/679 - 2s - loss: 0.0010 - accuracy: 0.9971 - val_loss: 0.0349 - val_accuracy: 0.5965\n",
            "\n",
            "Epoch 00033: val_loss did not improve from 0.01949\n",
            "Epoch 34/1000\n",
            "679/679 - 2s - loss: 9.3318e-04 - accuracy: 0.9985 - val_loss: 0.0153 - val_accuracy: 0.7895\n",
            "\n",
            "Epoch 00034: val_loss improved from 0.01949 to 0.01530, saving model to models\\model-best.h5\n",
            "Epoch 35/1000\n",
            "679/679 - 2s - loss: 5.6125e-04 - accuracy: 1.0000 - val_loss: 0.0148 - val_accuracy: 0.7982\n",
            "\n",
            "Epoch 00035: val_loss improved from 0.01530 to 0.01475, saving model to models\\model-best.h5\n",
            "Epoch 36/1000\n",
            "679/679 - 2s - loss: 4.3782e-04 - accuracy: 1.0000 - val_loss: 0.0142 - val_accuracy: 0.7982\n",
            "\n",
            "Epoch 00036: val_loss improved from 0.01475 to 0.01424, saving model to models\\model-best.h5\n",
            "Epoch 37/1000\n",
            "679/679 - 2s - loss: 3.3165e-04 - accuracy: 1.0000 - val_loss: 0.0141 - val_accuracy: 0.7982\n",
            "\n",
            "Epoch 00037: val_loss improved from 0.01424 to 0.01410, saving model to models\\model-best.h5\n",
            "Epoch 38/1000\n",
            "679/679 - 2s - loss: 2.4233e-04 - accuracy: 1.0000 - val_loss: 0.0152 - val_accuracy: 0.7719\n",
            "\n",
            "Epoch 00038: val_loss did not improve from 0.01410\n",
            "Epoch 39/1000\n",
            "679/679 - 2s - loss: 6.8673e-04 - accuracy: 0.9941 - val_loss: 0.0308 - val_accuracy: 0.7456\n",
            "\n",
            "Epoch 00039: val_loss did not improve from 0.01410\n",
            "Epoch 40/1000\n",
            "679/679 - 2s - loss: 8.9744e-04 - accuracy: 0.9956 - val_loss: 0.0217 - val_accuracy: 0.7281\n",
            "\n",
            "Epoch 00040: val_loss did not improve from 0.01410\n",
            "Epoch 41/1000\n",
            "679/679 - 2s - loss: 4.9666e-04 - accuracy: 1.0000 - val_loss: 0.0179 - val_accuracy: 0.8421\n",
            "\n",
            "Epoch 00041: val_loss did not improve from 0.01410\n",
            "Epoch 42/1000\n",
            "679/679 - 2s - loss: 3.5439e-04 - accuracy: 1.0000 - val_loss: 0.0137 - val_accuracy: 0.8509\n",
            "\n",
            "Epoch 00042: val_loss improved from 0.01410 to 0.01369, saving model to models\\model-best.h5\n",
            "Epoch 43/1000\n",
            "679/679 - 2s - loss: 2.4914e-04 - accuracy: 1.0000 - val_loss: 0.0147 - val_accuracy: 0.8421\n",
            "\n",
            "Epoch 00043: val_loss did not improve from 0.01369\n",
            "Epoch 44/1000\n",
            "679/679 - 2s - loss: 1.6747e-04 - accuracy: 1.0000 - val_loss: 0.0131 - val_accuracy: 0.8509\n",
            "\n",
            "Epoch 00044: val_loss improved from 0.01369 to 0.01310, saving model to models\\model-best.h5\n",
            "Epoch 45/1000\n",
            "679/679 - 2s - loss: 6.5933e-04 - accuracy: 0.9985 - val_loss: 0.0100 - val_accuracy: 0.8333\n",
            "\n",
            "Epoch 00045: val_loss improved from 0.01310 to 0.00999, saving model to models\\model-best.h5\n",
            "Epoch 46/1000\n",
            "679/679 - 2s - loss: 3.9779e-04 - accuracy: 1.0000 - val_loss: 0.0116 - val_accuracy: 0.8158\n",
            "\n",
            "Epoch 00046: val_loss did not improve from 0.00999\n",
            "Epoch 47/1000\n",
            "679/679 - 2s - loss: 2.9377e-04 - accuracy: 1.0000 - val_loss: 0.0113 - val_accuracy: 0.8246\n",
            "\n",
            "Epoch 00047: val_loss did not improve from 0.00999\n",
            "Epoch 48/1000\n",
            "679/679 - 2s - loss: 1.7792e-04 - accuracy: 1.0000 - val_loss: 0.0133 - val_accuracy: 0.8509\n",
            "\n",
            "Epoch 00048: val_loss did not improve from 0.00999\n",
            "Epoch 49/1000\n",
            "679/679 - 2s - loss: 1.0539e-04 - accuracy: 1.0000 - val_loss: 0.0158 - val_accuracy: 0.8596\n",
            "\n",
            "Epoch 00049: val_loss did not improve from 0.00999\n",
            "Epoch 50/1000\n",
            "679/679 - 2s - loss: 5.6613e-04 - accuracy: 0.9956 - val_loss: 0.0129 - val_accuracy: 0.6404\n",
            "\n",
            "Epoch 00050: val_loss did not improve from 0.00999\n",
            "Epoch 51/1000\n",
            "679/679 - 2s - loss: 5.8688e-04 - accuracy: 0.9985 - val_loss: 0.0079 - val_accuracy: 0.8421\n",
            "\n",
            "Epoch 00051: val_loss improved from 0.00999 to 0.00795, saving model to models\\model-best.h5\n",
            "Epoch 52/1000\n",
            "679/679 - 2s - loss: 4.4968e-04 - accuracy: 0.9971 - val_loss: 0.0111 - val_accuracy: 0.8333\n",
            "\n",
            "Epoch 00052: val_loss did not improve from 0.00795\n",
            "Epoch 53/1000\n",
            "679/679 - 2s - loss: 3.5327e-04 - accuracy: 1.0000 - val_loss: 0.0092 - val_accuracy: 0.8684\n",
            "\n",
            "Epoch 00053: val_loss did not improve from 0.00795\n",
            "Epoch 54/1000\n"
          ],
          "name": "stdout"
        }
      ]
    },
    {
      "cell_type": "markdown",
      "metadata": {
        "id": "6VfQ8rze4ltS"
      },
      "source": [
        "# Performance Evaluation"
      ]
    },
    {
      "cell_type": "code",
      "metadata": {
        "id": "jgx7ywtgQdR4"
      },
      "source": [
        "# del model\n",
        "# model = load_model('models\\model-best.h5')              \n",
        "# [Label_train_pred, decoder_output_train_pred] = model.predict(Input_train, batch_size=1, verbose=0)\n",
        "# [Label_val_pred, decoder_output_val_pred] = model.predict(Input_val, batch_size=1, verbose=0)\n",
        "# [Label_test_pred, decoder_output_test_pred] = model.predict(Input_test, batch_size=1, verbose=0)"
      ],
      "execution_count": null,
      "outputs": []
    },
    {
      "cell_type": "code",
      "metadata": {
        "id": "xPTontB8qOt_"
      },
      "source": [
        "# Train_Statistics = np.asarray(Training_Stats)\n",
        "# Val_Statistics = np.asarray(Validation_Stats)\n",
        "# Test_Statistics = np.asarray(Testing_Stats)\n",
        "\n",
        "# # Show Classification/Reconstruction Statistics\n",
        "# Show_Statistics('Training Results', Train_Statistics[0])\n",
        "# Show_Statistics('Validation Results', Val_Statistics[0])\n",
        "# Show_Statistics('Test Results', Test_Statistics[0])"
      ],
      "execution_count": null,
      "outputs": []
    }
  ]
}